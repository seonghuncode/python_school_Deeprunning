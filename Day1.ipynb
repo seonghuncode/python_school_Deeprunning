{
 "cells": [
  {
   "cell_type": "code",
   "execution_count": 4,
   "id": "7a3c45e8",
   "metadata": {},
   "outputs": [],
   "source": [
    "#프로그램 추의??\n",
    "#택1 : C언어/C++ or java(택1)\n",
    "#택2 : 파이선 (택1후의 선택 영역?)\n",
    "\n",
    "\n",
    "#파이썬 문자열 자료형 기본 개념\n",
    "#a[ 이상 : 미만 : 간격 ]\n",
    "#ex. a[ : 8] ==> 처음 부터 7까지를 의미 한다\n",
    "\n",
    "# 리스트를 사용하면 메모리를 많이 사용하고 복잡하다 -> array를 만들어 넘파이로 넘긴다\n",
    "#numpy : array와 비슷한 개념(잘 다루기 위해 도와 주는 도구, 표형태로 데이터를 다루는 것)\n",
    "\n",
    "#numbpy를 사용하여 데이터를 찾을 경우\n",
    "#a[b ,c] : b=>행번호, c=>열번호 (-의 경우 뒤에서 부터 찾을때 사용한다)\n",
    "\n",
    "# numpy : 숫자를 다루기 위한것(실수,정수) =>숫자에 특화, 리스트의 기능을 확장한 개념  \n",
    "# pandas : 숫자, 문자기 섞여 있는 것을 잘 다루기 위한것. => 파이썬 사전 기능을 확장한 개념\n",
    "# (공통점 : 데이터를 잘 다루기 위함이다.)\n",
    "\n",
    "#머신러닝 이란? : 기계를 학습시키는 것(방법은 여러가지가 있다.)\n",
    "#\n",
    "#인공지능 > 머신러닝 > 신경망 > 딥러닝\n",
    "#머신러닝 : 기존 데이터를 분석하여 예측하는 것\n",
    "\n",
    "#머신러닝 방법  \n",
    "#1) 회귀(선형회귀) : 값을 도출\n",
    "#2) 분리(losistic회귀) : 종류를 맞추는것 (ex 고양이인지 강아지 인지 맞추는 것, 0 or 1사이의 값으로 나타내는 것)\n",
    "\n"
   ]
  },
  {
   "cell_type": "code",
   "execution_count": null,
   "id": "5dd97491",
   "metadata": {},
   "outputs": [],
   "source": []
  },
  {
   "cell_type": "code",
   "execution_count": null,
   "id": "bfb3dc72",
   "metadata": {},
   "outputs": [],
   "source": []
  },
  {
   "cell_type": "code",
   "execution_count": 176,
   "id": "82eabc77",
   "metadata": {},
   "outputs": [],
   "source": [
    "import numpy as np"
   ]
  },
  {
   "cell_type": "code",
   "execution_count": 177,
   "id": "3c5fcd2d",
   "metadata": {},
   "outputs": [
    {
     "data": {
      "text/plain": [
       "array([[ 1,  2,  3],\n",
       "       [ 4,  5,  6],\n",
       "       [ 7,  8,  9],\n",
       "       [10, 11, 12]])"
      ]
     },
     "execution_count": 177,
     "metadata": {},
     "output_type": "execute_result"
    }
   ],
   "source": [
    "l = [[1,2,3], [4,5,6], [7,8,9],[10,11,12]]\n",
    "a = np.array(l)\n",
    "a\n",
    "\n",
    "#리스트에 값을 넣어주고 numpy에 array형태로 넣어 a값에 넣는다\n",
    "#보기 좋게 값이 나온다."
   ]
  },
  {
   "cell_type": "code",
   "execution_count": 178,
   "id": "47970558",
   "metadata": {},
   "outputs": [
    {
     "data": {
      "text/plain": [
       "array([1, 2, 3])"
      ]
     },
     "execution_count": 178,
     "metadata": {},
     "output_type": "execute_result"
    }
   ],
   "source": [
    "a[0]"
   ]
  },
  {
   "cell_type": "code",
   "execution_count": 179,
   "id": "69b6fb19",
   "metadata": {},
   "outputs": [
    {
     "data": {
      "text/plain": [
       "array([[1, 2, 3],\n",
       "       [4, 5, 6]])"
      ]
     },
     "execution_count": 179,
     "metadata": {},
     "output_type": "execute_result"
    }
   ],
   "source": [
    "a[:2]"
   ]
  },
  {
   "cell_type": "code",
   "execution_count": 180,
   "id": "8a6c7679",
   "metadata": {},
   "outputs": [
    {
     "data": {
      "text/plain": [
       "8"
      ]
     },
     "execution_count": 180,
     "metadata": {},
     "output_type": "execute_result"
    }
   ],
   "source": [
    "a[2,1]"
   ]
  },
  {
   "cell_type": "code",
   "execution_count": 181,
   "id": "a774ddeb",
   "metadata": {},
   "outputs": [
    {
     "data": {
      "text/plain": [
       "8"
      ]
     },
     "execution_count": 181,
     "metadata": {},
     "output_type": "execute_result"
    }
   ],
   "source": [
    "a[-2, -2]"
   ]
  },
  {
   "cell_type": "code",
   "execution_count": 182,
   "id": "f19121fe",
   "metadata": {},
   "outputs": [
    {
     "data": {
      "text/plain": [
       "array([[1, 2, 3],\n",
       "       [7, 8, 9]])"
      ]
     },
     "execution_count": 182,
     "metadata": {},
     "output_type": "execute_result"
    }
   ],
   "source": [
    "a[[0, 2]] #0번, 2번 행을 출력(열번호에 0,2를 넣는 것)"
   ]
  },
  {
   "cell_type": "code",
   "execution_count": 183,
   "id": "a42674b8",
   "metadata": {},
   "outputs": [
    {
     "data": {
      "text/plain": [
       "array([[ 1,  3],\n",
       "       [ 4,  6],\n",
       "       [ 7,  9],\n",
       "       [10, 12]])"
      ]
     },
     "execution_count": 183,
     "metadata": {},
     "output_type": "execute_result"
    }
   ],
   "source": [
    "a[:, [0,2]] #0번 2번 열이 출력"
   ]
  },
  {
   "cell_type": "code",
   "execution_count": 184,
   "id": "e0893f3e",
   "metadata": {},
   "outputs": [
    {
     "data": {
      "text/plain": [
       "array([[1, 2, 3],\n",
       "       [7, 8, 9]])"
      ]
     },
     "execution_count": 184,
     "metadata": {},
     "output_type": "execute_result"
    }
   ],
   "source": [
    "a[::2] #2칸 간격"
   ]
  },
  {
   "cell_type": "code",
   "execution_count": 185,
   "id": "68a1ec93",
   "metadata": {},
   "outputs": [
    {
     "data": {
      "text/plain": [
       "array([[10, 11, 12],\n",
       "       [ 7,  8,  9],\n",
       "       [ 4,  5,  6],\n",
       "       [ 1,  2,  3]])"
      ]
     },
     "execution_count": 185,
     "metadata": {},
     "output_type": "execute_result"
    }
   ],
   "source": [
    "a[::-1] #행의 역순"
   ]
  },
  {
   "cell_type": "code",
   "execution_count": 186,
   "id": "71332175",
   "metadata": {},
   "outputs": [
    {
     "data": {
      "text/plain": [
       "array([[2, 3],\n",
       "       [5, 6]])"
      ]
     },
     "execution_count": 186,
     "metadata": {},
     "output_type": "execute_result"
    }
   ],
   "source": [
    "a[:2, 1:3] #행 0, 1 / 열 1,2 => 직사각형으로 자른 모양"
   ]
  },
  {
   "cell_type": "code",
   "execution_count": null,
   "id": "241f7a32",
   "metadata": {},
   "outputs": [],
   "source": []
  },
  {
   "cell_type": "code",
   "execution_count": 187,
   "id": "d3532fc9",
   "metadata": {},
   "outputs": [
    {
     "data": {
      "text/plain": [
       "array([[1, 2],\n",
       "       [3, 4],\n",
       "       [5, 6]])"
      ]
     },
     "execution_count": 187,
     "metadata": {},
     "output_type": "execute_result"
    }
   ],
   "source": [
    "a = np.array([[1,2], [3,4], [5,6]])\n",
    "a"
   ]
  },
  {
   "cell_type": "code",
   "execution_count": 188,
   "id": "2e1b4ebd",
   "metadata": {},
   "outputs": [
    {
     "data": {
      "text/plain": [
       "(3, 2)"
      ]
     },
     "execution_count": 188,
     "metadata": {},
     "output_type": "execute_result"
    }
   ],
   "source": [
    "a.shape #정보를 알려주는 역할??"
   ]
  },
  {
   "cell_type": "code",
   "execution_count": null,
   "id": "d8e5ef6b",
   "metadata": {},
   "outputs": [],
   "source": []
  },
  {
   "cell_type": "code",
   "execution_count": 189,
   "id": "c1eee53c",
   "metadata": {},
   "outputs": [
    {
     "data": {
      "text/plain": [
       "array([1.  , 2.  , 3.14])"
      ]
     },
     "execution_count": 189,
     "metadata": {},
     "output_type": "execute_result"
    }
   ],
   "source": [
    "l = [1,2,3.14]\n",
    "a = np.array(l)\n",
    "a"
   ]
  },
  {
   "cell_type": "code",
   "execution_count": 190,
   "id": "2964ca8a",
   "metadata": {},
   "outputs": [
    {
     "data": {
      "text/plain": [
       "((3,), dtype('float64'))"
      ]
     },
     "execution_count": 190,
     "metadata": {},
     "output_type": "execute_result"
    }
   ],
   "source": [
    "a.shape, a.dtype"
   ]
  },
  {
   "cell_type": "code",
   "execution_count": 191,
   "id": "346c45eb",
   "metadata": {},
   "outputs": [
    {
     "data": {
      "text/plain": [
       "array(['1', '2', 'three'], dtype='<U11')"
      ]
     },
     "execution_count": 191,
     "metadata": {},
     "output_type": "execute_result"
    }
   ],
   "source": [
    "l = [1,2, 'three']\n",
    "a = np.array(l)\n",
    "a"
   ]
  },
  {
   "cell_type": "code",
   "execution_count": 192,
   "id": "c31487f7",
   "metadata": {},
   "outputs": [
    {
     "data": {
      "text/plain": [
       "(8, 9)"
      ]
     },
     "execution_count": 192,
     "metadata": {},
     "output_type": "execute_result"
    }
   ],
   "source": [
    "gugudan = [[i * j for j in range(1, 10)]for i in range(2,10)]\n",
    "a = np.array(gugudan)\n",
    "a.shape"
   ]
  },
  {
   "cell_type": "code",
   "execution_count": null,
   "id": "6643173d",
   "metadata": {},
   "outputs": [],
   "source": []
  },
  {
   "cell_type": "code",
   "execution_count": 193,
   "id": "59b932e2",
   "metadata": {},
   "outputs": [
    {
     "data": {
      "text/plain": [
       "<matplotlib.colorbar.Colorbar at 0x2b795368520>"
      ]
     },
     "execution_count": 193,
     "metadata": {},
     "output_type": "execute_result"
    },
    {
     "data": {
      "image/png": "[encoded data removed]",
      "text/plain": [
       "<Figure size 432x288 with 2 Axes>"
      ]
     },
     "metadata": {
      "needs_background": "light"
     },
     "output_type": "display_data"
    }
   ],
   "source": [
    "import matplotlib.pyplot as plt\n",
    "plt.imshow(a)\n",
    "plt.colorbar() #숫자가 크면 노란색 작으면 검정색(숫자를 색으로 표현) 이미지 = 표"
   ]
  },
  {
   "cell_type": "code",
   "execution_count": null,
   "id": "e67b08a0",
   "metadata": {},
   "outputs": [],
   "source": []
  },
  {
   "cell_type": "code",
   "execution_count": null,
   "id": "f0add2ea",
   "metadata": {},
   "outputs": [],
   "source": []
  },
  {
   "cell_type": "code",
   "execution_count": 194,
   "id": "826e9a53",
   "metadata": {},
   "outputs": [],
   "source": [
    "#판다스를 사용해서 데이터 불러 오기!!!"
   ]
  },
  {
   "cell_type": "code",
   "execution_count": 195,
   "id": "9841313b",
   "metadata": {},
   "outputs": [],
   "source": [
    "import pandas as pd"
   ]
  },
  {
   "cell_type": "code",
   "execution_count": 196,
   "id": "58af9427",
   "metadata": {},
   "outputs": [],
   "source": [
    "#깃허브 마지막 올려준것 -> raw우클릭 -> 다른 링크로 저장 -> \n",
    "#마지막 확장자 .csv로 변경, 전체로 변경 -> \n",
    "#로컬 , 사용자 ,이름 위치로 와서 저장"
   ]
  },
  {
   "cell_type": "code",
   "execution_count": 197,
   "id": "347e8125",
   "metadata": {},
   "outputs": [],
   "source": [
    "data = pd.read_csv('world_happiness_report_2021.cvs')\n",
    "#판다스에 있는 cvs기능을 사용하겠다\n",
    "#world + tab을 하면 자동으로 이름이 왼료 된다, 안나오면 폴더 위치를 잘못 저장한 것이다."
   ]
  },
  {
   "cell_type": "code",
   "execution_count": 198,
   "id": "fe3c4bed",
   "metadata": {},
   "outputs": [
    {
     "data": {
      "text/html": [
       "<div>\n",
       "<style scoped>\n",
       "    .dataframe tbody tr th:only-of-type {\n",
       "        vertical-align: middle;\n",
       "    }\n",
       "\n",
       "    .dataframe tbody tr th {\n",
       "        vertical-align: top;\n",
       "    }\n",
       "\n",
       "    .dataframe thead th {\n",
       "        text-align: right;\n",
       "    }\n",
       "</style>\n",
       "<table border=\"1\" class=\"dataframe\">\n",
       "  <thead>\n",
       "    <tr style=\"text-align: right;\">\n",
       "      <th></th>\n",
       "      <th>Country name</th>\n",
       "      <th>Regional indicator</th>\n",
       "      <th>Ladder score</th>\n",
       "      <th>Standard error of ladder score</th>\n",
       "      <th>upperwhisker</th>\n",
       "      <th>lowerwhisker</th>\n",
       "      <th>Logged GDP per capita</th>\n",
       "      <th>Social support</th>\n",
       "      <th>Healthy life expectancy</th>\n",
       "      <th>Freedom to make life choices</th>\n",
       "      <th>Generosity</th>\n",
       "      <th>Perceptions of corruption</th>\n",
       "      <th>Ladder score in Dystopia</th>\n",
       "      <th>Explained by: Log GDP per capita</th>\n",
       "      <th>Explained by: Social support</th>\n",
       "      <th>Explained by: Healthy life expectancy</th>\n",
       "      <th>Explained by: Freedom to make life choices</th>\n",
       "      <th>Explained by: Generosity</th>\n",
       "      <th>Explained by: Perceptions of corruption</th>\n",
       "      <th>Dystopia + residual</th>\n",
       "    </tr>\n",
       "  </thead>\n",
       "  <tbody>\n",
       "    <tr>\n",
       "      <th>0</th>\n",
       "      <td>Finland</td>\n",
       "      <td>Western Europe</td>\n",
       "      <td>7.842</td>\n",
       "      <td>0.032</td>\n",
       "      <td>7.904</td>\n",
       "      <td>7.780</td>\n",
       "      <td>10.775</td>\n",
       "      <td>0.954</td>\n",
       "      <td>72.000</td>\n",
       "      <td>0.949</td>\n",
       "      <td>-0.098</td>\n",
       "      <td>0.186</td>\n",
       "      <td>2.43</td>\n",
       "      <td>1.446</td>\n",
       "      <td>1.106</td>\n",
       "      <td>0.741</td>\n",
       "      <td>0.691</td>\n",
       "      <td>0.124</td>\n",
       "      <td>0.481</td>\n",
       "      <td>3.253</td>\n",
       "    </tr>\n",
       "    <tr>\n",
       "      <th>1</th>\n",
       "      <td>Denmark</td>\n",
       "      <td>Western Europe</td>\n",
       "      <td>7.620</td>\n",
       "      <td>0.035</td>\n",
       "      <td>7.687</td>\n",
       "      <td>7.552</td>\n",
       "      <td>10.933</td>\n",
       "      <td>0.954</td>\n",
       "      <td>72.700</td>\n",
       "      <td>0.946</td>\n",
       "      <td>0.030</td>\n",
       "      <td>0.179</td>\n",
       "      <td>2.43</td>\n",
       "      <td>1.502</td>\n",
       "      <td>1.108</td>\n",
       "      <td>0.763</td>\n",
       "      <td>0.686</td>\n",
       "      <td>0.208</td>\n",
       "      <td>0.485</td>\n",
       "      <td>2.868</td>\n",
       "    </tr>\n",
       "    <tr>\n",
       "      <th>2</th>\n",
       "      <td>Switzerland</td>\n",
       "      <td>Western Europe</td>\n",
       "      <td>7.571</td>\n",
       "      <td>0.036</td>\n",
       "      <td>7.643</td>\n",
       "      <td>7.500</td>\n",
       "      <td>11.117</td>\n",
       "      <td>0.942</td>\n",
       "      <td>74.400</td>\n",
       "      <td>0.919</td>\n",
       "      <td>0.025</td>\n",
       "      <td>0.292</td>\n",
       "      <td>2.43</td>\n",
       "      <td>1.566</td>\n",
       "      <td>1.079</td>\n",
       "      <td>0.816</td>\n",
       "      <td>0.653</td>\n",
       "      <td>0.204</td>\n",
       "      <td>0.413</td>\n",
       "      <td>2.839</td>\n",
       "    </tr>\n",
       "    <tr>\n",
       "      <th>3</th>\n",
       "      <td>Iceland</td>\n",
       "      <td>Western Europe</td>\n",
       "      <td>7.554</td>\n",
       "      <td>0.059</td>\n",
       "      <td>7.670</td>\n",
       "      <td>7.438</td>\n",
       "      <td>10.878</td>\n",
       "      <td>0.983</td>\n",
       "      <td>73.000</td>\n",
       "      <td>0.955</td>\n",
       "      <td>0.160</td>\n",
       "      <td>0.673</td>\n",
       "      <td>2.43</td>\n",
       "      <td>1.482</td>\n",
       "      <td>1.172</td>\n",
       "      <td>0.772</td>\n",
       "      <td>0.698</td>\n",
       "      <td>0.293</td>\n",
       "      <td>0.170</td>\n",
       "      <td>2.967</td>\n",
       "    </tr>\n",
       "    <tr>\n",
       "      <th>4</th>\n",
       "      <td>Netherlands</td>\n",
       "      <td>Western Europe</td>\n",
       "      <td>7.464</td>\n",
       "      <td>0.027</td>\n",
       "      <td>7.518</td>\n",
       "      <td>7.410</td>\n",
       "      <td>10.932</td>\n",
       "      <td>0.942</td>\n",
       "      <td>72.400</td>\n",
       "      <td>0.913</td>\n",
       "      <td>0.175</td>\n",
       "      <td>0.338</td>\n",
       "      <td>2.43</td>\n",
       "      <td>1.501</td>\n",
       "      <td>1.079</td>\n",
       "      <td>0.753</td>\n",
       "      <td>0.647</td>\n",
       "      <td>0.302</td>\n",
       "      <td>0.384</td>\n",
       "      <td>2.798</td>\n",
       "    </tr>\n",
       "    <tr>\n",
       "      <th>...</th>\n",
       "      <td>...</td>\n",
       "      <td>...</td>\n",
       "      <td>...</td>\n",
       "      <td>...</td>\n",
       "      <td>...</td>\n",
       "      <td>...</td>\n",
       "      <td>...</td>\n",
       "      <td>...</td>\n",
       "      <td>...</td>\n",
       "      <td>...</td>\n",
       "      <td>...</td>\n",
       "      <td>...</td>\n",
       "      <td>...</td>\n",
       "      <td>...</td>\n",
       "      <td>...</td>\n",
       "      <td>...</td>\n",
       "      <td>...</td>\n",
       "      <td>...</td>\n",
       "      <td>...</td>\n",
       "      <td>...</td>\n",
       "    </tr>\n",
       "    <tr>\n",
       "      <th>144</th>\n",
       "      <td>Lesotho</td>\n",
       "      <td>Sub-Saharan Africa</td>\n",
       "      <td>3.512</td>\n",
       "      <td>0.120</td>\n",
       "      <td>3.748</td>\n",
       "      <td>3.276</td>\n",
       "      <td>7.926</td>\n",
       "      <td>0.787</td>\n",
       "      <td>48.700</td>\n",
       "      <td>0.715</td>\n",
       "      <td>-0.131</td>\n",
       "      <td>0.915</td>\n",
       "      <td>2.43</td>\n",
       "      <td>0.451</td>\n",
       "      <td>0.731</td>\n",
       "      <td>0.007</td>\n",
       "      <td>0.405</td>\n",
       "      <td>0.103</td>\n",
       "      <td>0.015</td>\n",
       "      <td>1.800</td>\n",
       "    </tr>\n",
       "    <tr>\n",
       "      <th>145</th>\n",
       "      <td>Botswana</td>\n",
       "      <td>Sub-Saharan Africa</td>\n",
       "      <td>3.467</td>\n",
       "      <td>0.074</td>\n",
       "      <td>3.611</td>\n",
       "      <td>3.322</td>\n",
       "      <td>9.782</td>\n",
       "      <td>0.784</td>\n",
       "      <td>59.269</td>\n",
       "      <td>0.824</td>\n",
       "      <td>-0.246</td>\n",
       "      <td>0.801</td>\n",
       "      <td>2.43</td>\n",
       "      <td>1.099</td>\n",
       "      <td>0.724</td>\n",
       "      <td>0.340</td>\n",
       "      <td>0.539</td>\n",
       "      <td>0.027</td>\n",
       "      <td>0.088</td>\n",
       "      <td>0.648</td>\n",
       "    </tr>\n",
       "    <tr>\n",
       "      <th>146</th>\n",
       "      <td>Rwanda</td>\n",
       "      <td>Sub-Saharan Africa</td>\n",
       "      <td>3.415</td>\n",
       "      <td>0.068</td>\n",
       "      <td>3.548</td>\n",
       "      <td>3.282</td>\n",
       "      <td>7.676</td>\n",
       "      <td>0.552</td>\n",
       "      <td>61.400</td>\n",
       "      <td>0.897</td>\n",
       "      <td>0.061</td>\n",
       "      <td>0.167</td>\n",
       "      <td>2.43</td>\n",
       "      <td>0.364</td>\n",
       "      <td>0.202</td>\n",
       "      <td>0.407</td>\n",
       "      <td>0.627</td>\n",
       "      <td>0.227</td>\n",
       "      <td>0.493</td>\n",
       "      <td>1.095</td>\n",
       "    </tr>\n",
       "    <tr>\n",
       "      <th>147</th>\n",
       "      <td>Zimbabwe</td>\n",
       "      <td>Sub-Saharan Africa</td>\n",
       "      <td>3.145</td>\n",
       "      <td>0.058</td>\n",
       "      <td>3.259</td>\n",
       "      <td>3.030</td>\n",
       "      <td>7.943</td>\n",
       "      <td>0.750</td>\n",
       "      <td>56.201</td>\n",
       "      <td>0.677</td>\n",
       "      <td>-0.047</td>\n",
       "      <td>0.821</td>\n",
       "      <td>2.43</td>\n",
       "      <td>0.457</td>\n",
       "      <td>0.649</td>\n",
       "      <td>0.243</td>\n",
       "      <td>0.359</td>\n",
       "      <td>0.157</td>\n",
       "      <td>0.075</td>\n",
       "      <td>1.205</td>\n",
       "    </tr>\n",
       "    <tr>\n",
       "      <th>148</th>\n",
       "      <td>Afghanistan</td>\n",
       "      <td>South Asia</td>\n",
       "      <td>2.523</td>\n",
       "      <td>0.038</td>\n",
       "      <td>2.596</td>\n",
       "      <td>2.449</td>\n",
       "      <td>7.695</td>\n",
       "      <td>0.463</td>\n",
       "      <td>52.493</td>\n",
       "      <td>0.382</td>\n",
       "      <td>-0.102</td>\n",
       "      <td>0.924</td>\n",
       "      <td>2.43</td>\n",
       "      <td>0.370</td>\n",
       "      <td>0.000</td>\n",
       "      <td>0.126</td>\n",
       "      <td>0.000</td>\n",
       "      <td>0.122</td>\n",
       "      <td>0.010</td>\n",
       "      <td>1.895</td>\n",
       "    </tr>\n",
       "  </tbody>\n",
       "</table>\n",
       "<p>149 rows × 20 columns</p>\n",
       "</div>"
      ],
      "text/plain": [
       "    Country name  Regional indicator  Ladder score  \\\n",
       "0        Finland      Western Europe         7.842   \n",
       "1        Denmark      Western Europe         7.620   \n",
       "2    Switzerland      Western Europe         7.571   \n",
       "3        Iceland      Western Europe         7.554   \n",
       "4    Netherlands      Western Europe         7.464   \n",
       "..           ...                 ...           ...   \n",
       "144      Lesotho  Sub-Saharan Africa         3.512   \n",
       "145     Botswana  Sub-Saharan Africa         3.467   \n",
       "146       Rwanda  Sub-Saharan Africa         3.415   \n",
       "147     Zimbabwe  Sub-Saharan Africa         3.145   \n",
       "148  Afghanistan          South Asia         2.523   \n",
       "\n",
       "     Standard error of ladder score  upperwhisker  lowerwhisker  \\\n",
       "0                             0.032         7.904         7.780   \n",
       "1                             0.035         7.687         7.552   \n",
       "2                             0.036         7.643         7.500   \n",
       "3                             0.059         7.670         7.438   \n",
       "4                             0.027         7.518         7.410   \n",
       "..                              ...           ...           ...   \n",
       "144                           0.120         3.748         3.276   \n",
       "145                           0.074         3.611         3.322   \n",
       "146                           0.068         3.548         3.282   \n",
       "147                           0.058         3.259         3.030   \n",
       "148                           0.038         2.596         2.449   \n",
       "\n",
       "     Logged GDP per capita  Social support  Healthy life expectancy  \\\n",
       "0                   10.775           0.954                   72.000   \n",
       "1                   10.933           0.954                   72.700   \n",
       "2                   11.117           0.942                   74.400   \n",
       "3                   10.878           0.983                   73.000   \n",
       "4                   10.932           0.942                   72.400   \n",
       "..                     ...             ...                      ...   \n",
       "144                  7.926           0.787                   48.700   \n",
       "145                  9.782           0.784                   59.269   \n",
       "146                  7.676           0.552                   61.400   \n",
       "147                  7.943           0.750                   56.201   \n",
       "148                  7.695           0.463                   52.493   \n",
       "\n",
       "     Freedom to make life choices  Generosity  Perceptions of corruption  \\\n",
       "0                           0.949      -0.098                      0.186   \n",
       "1                           0.946       0.030                      0.179   \n",
       "2                           0.919       0.025                      0.292   \n",
       "3                           0.955       0.160                      0.673   \n",
       "4                           0.913       0.175                      0.338   \n",
       "..                            ...         ...                        ...   \n",
       "144                         0.715      -0.131                      0.915   \n",
       "145                         0.824      -0.246                      0.801   \n",
       "146                         0.897       0.061                      0.167   \n",
       "147                         0.677      -0.047                      0.821   \n",
       "148                         0.382      -0.102                      0.924   \n",
       "\n",
       "     Ladder score in Dystopia  Explained by: Log GDP per capita  \\\n",
       "0                        2.43                             1.446   \n",
       "1                        2.43                             1.502   \n",
       "2                        2.43                             1.566   \n",
       "3                        2.43                             1.482   \n",
       "4                        2.43                             1.501   \n",
       "..                        ...                               ...   \n",
       "144                      2.43                             0.451   \n",
       "145                      2.43                             1.099   \n",
       "146                      2.43                             0.364   \n",
       "147                      2.43                             0.457   \n",
       "148                      2.43                             0.370   \n",
       "\n",
       "     Explained by: Social support  Explained by: Healthy life expectancy  \\\n",
       "0                           1.106                                  0.741   \n",
       "1                           1.108                                  0.763   \n",
       "2                           1.079                                  0.816   \n",
       "3                           1.172                                  0.772   \n",
       "4                           1.079                                  0.753   \n",
       "..                            ...                                    ...   \n",
       "144                         0.731                                  0.007   \n",
       "145                         0.724                                  0.340   \n",
       "146                         0.202                                  0.407   \n",
       "147                         0.649                                  0.243   \n",
       "148                         0.000                                  0.126   \n",
       "\n",
       "     Explained by: Freedom to make life choices  Explained by: Generosity  \\\n",
       "0                                         0.691                     0.124   \n",
       "1                                         0.686                     0.208   \n",
       "2                                         0.653                     0.204   \n",
       "3                                         0.698                     0.293   \n",
       "4                                         0.647                     0.302   \n",
       "..                                          ...                       ...   \n",
       "144                                       0.405                     0.103   \n",
       "145                                       0.539                     0.027   \n",
       "146                                       0.627                     0.227   \n",
       "147                                       0.359                     0.157   \n",
       "148                                       0.000                     0.122   \n",
       "\n",
       "     Explained by: Perceptions of corruption  Dystopia + residual  \n",
       "0                                      0.481                3.253  \n",
       "1                                      0.485                2.868  \n",
       "2                                      0.413                2.839  \n",
       "3                                      0.170                2.967  \n",
       "4                                      0.384                2.798  \n",
       "..                                       ...                  ...  \n",
       "144                                    0.015                1.800  \n",
       "145                                    0.088                0.648  \n",
       "146                                    0.493                1.095  \n",
       "147                                    0.075                1.205  \n",
       "148                                    0.010                1.895  \n",
       "\n",
       "[149 rows x 20 columns]"
      ]
     },
     "execution_count": 198,
     "metadata": {},
     "output_type": "execute_result"
    }
   ],
   "source": [
    "data #필드명, 행, 번호 ,필드 이름이 반드시 있어야 한다(없으면 자동으로 생성된다) - 문자, 숫자 존재"
   ]
  },
  {
   "cell_type": "code",
   "execution_count": 199,
   "id": "35729fd7",
   "metadata": {},
   "outputs": [
    {
     "data": {
      "text/plain": [
       "0      7.842\n",
       "1      7.620\n",
       "2      7.571\n",
       "3      7.554\n",
       "4      7.464\n",
       "       ...  \n",
       "144    3.512\n",
       "145    3.467\n",
       "146    3.415\n",
       "147    3.145\n",
       "148    2.523\n",
       "Name: Ladder score, Length: 149, dtype: float64"
      ]
     },
     "execution_count": 199,
     "metadata": {},
     "output_type": "execute_result"
    }
   ],
   "source": [
    "data['Ladder score'] #해당하는 것만 뽑기 위해서"
   ]
  },
  {
   "cell_type": "code",
   "execution_count": 200,
   "id": "c6360a69",
   "metadata": {},
   "outputs": [
    {
     "data": {
      "text/html": [
       "<div>\n",
       "<style scoped>\n",
       "    .dataframe tbody tr th:only-of-type {\n",
       "        vertical-align: middle;\n",
       "    }\n",
       "\n",
       "    .dataframe tbody tr th {\n",
       "        vertical-align: top;\n",
       "    }\n",
       "\n",
       "    .dataframe thead th {\n",
       "        text-align: right;\n",
       "    }\n",
       "</style>\n",
       "<table border=\"1\" class=\"dataframe\">\n",
       "  <thead>\n",
       "    <tr style=\"text-align: right;\">\n",
       "      <th></th>\n",
       "      <th>Ladder score</th>\n",
       "      <th>Social support</th>\n",
       "    </tr>\n",
       "  </thead>\n",
       "  <tbody>\n",
       "    <tr>\n",
       "      <th>0</th>\n",
       "      <td>7.842</td>\n",
       "      <td>0.954</td>\n",
       "    </tr>\n",
       "    <tr>\n",
       "      <th>1</th>\n",
       "      <td>7.620</td>\n",
       "      <td>0.954</td>\n",
       "    </tr>\n",
       "    <tr>\n",
       "      <th>2</th>\n",
       "      <td>7.571</td>\n",
       "      <td>0.942</td>\n",
       "    </tr>\n",
       "    <tr>\n",
       "      <th>3</th>\n",
       "      <td>7.554</td>\n",
       "      <td>0.983</td>\n",
       "    </tr>\n",
       "    <tr>\n",
       "      <th>4</th>\n",
       "      <td>7.464</td>\n",
       "      <td>0.942</td>\n",
       "    </tr>\n",
       "    <tr>\n",
       "      <th>...</th>\n",
       "      <td>...</td>\n",
       "      <td>...</td>\n",
       "    </tr>\n",
       "    <tr>\n",
       "      <th>144</th>\n",
       "      <td>3.512</td>\n",
       "      <td>0.787</td>\n",
       "    </tr>\n",
       "    <tr>\n",
       "      <th>145</th>\n",
       "      <td>3.467</td>\n",
       "      <td>0.784</td>\n",
       "    </tr>\n",
       "    <tr>\n",
       "      <th>146</th>\n",
       "      <td>3.415</td>\n",
       "      <td>0.552</td>\n",
       "    </tr>\n",
       "    <tr>\n",
       "      <th>147</th>\n",
       "      <td>3.145</td>\n",
       "      <td>0.750</td>\n",
       "    </tr>\n",
       "    <tr>\n",
       "      <th>148</th>\n",
       "      <td>2.523</td>\n",
       "      <td>0.463</td>\n",
       "    </tr>\n",
       "  </tbody>\n",
       "</table>\n",
       "<p>149 rows × 2 columns</p>\n",
       "</div>"
      ],
      "text/plain": [
       "     Ladder score  Social support\n",
       "0           7.842           0.954\n",
       "1           7.620           0.954\n",
       "2           7.571           0.942\n",
       "3           7.554           0.983\n",
       "4           7.464           0.942\n",
       "..            ...             ...\n",
       "144         3.512           0.787\n",
       "145         3.467           0.784\n",
       "146         3.415           0.552\n",
       "147         3.145           0.750\n",
       "148         2.523           0.463\n",
       "\n",
       "[149 rows x 2 columns]"
      ]
     },
     "execution_count": 200,
     "metadata": {},
     "output_type": "execute_result"
    }
   ],
   "source": [
    "data[['Ladder score', 'Social support']]"
   ]
  },
  {
   "cell_type": "code",
   "execution_count": null,
   "id": "a5259011",
   "metadata": {},
   "outputs": [],
   "source": []
  },
  {
   "cell_type": "code",
   "execution_count": 201,
   "id": "a3678ef3",
   "metadata": {},
   "outputs": [],
   "source": [
    "#판다스 -> 넘파일 변환 (딥러닝을 하기 위한 과정??) 숫자로"
   ]
  },
  {
   "cell_type": "code",
   "execution_count": 202,
   "id": "c0f0aaee",
   "metadata": {},
   "outputs": [
    {
     "data": {
      "text/plain": [
       "array([[7.842, 0.954],\n",
       "       [7.62 , 0.954],\n",
       "       [7.571, 0.942],\n",
       "       [7.554, 0.983],\n",
       "       [7.464, 0.942],\n",
       "       [7.392, 0.954],\n",
       "       [7.363, 0.934],\n",
       "       [7.324, 0.908],\n",
       "       [7.277, 0.948],\n",
       "       [7.268, 0.934],\n",
       "       [7.183, 0.94 ],\n",
       "       [7.157, 0.939],\n",
       "       [7.155, 0.903],\n",
       "       [7.103, 0.926],\n",
       "       [7.085, 0.947],\n",
       "       [7.069, 0.891],\n",
       "       [7.064, 0.934],\n",
       "       [6.965, 0.947],\n",
       "       [6.951, 0.92 ],\n",
       "       [6.834, 0.906],\n",
       "       [6.69 , 0.942],\n",
       "       [6.647, 0.862],\n",
       "       [6.602, 0.931],\n",
       "       [6.584, 0.898],\n",
       "       [6.561, 0.844],\n",
       "       [6.494, 0.891],\n",
       "       [6.491, 0.932],\n",
       "       [6.483, 0.88 ],\n",
       "       [6.461, 0.948],\n",
       "       [6.435, 0.813],\n",
       "       [6.431, 0.925],\n",
       "       [6.377, 0.915],\n",
       "       [6.372, 0.821],\n",
       "       [6.331, 0.936],\n",
       "       [6.33 , 0.882],\n",
       "       [6.317, 0.831],\n",
       "       [6.309, 0.877],\n",
       "       [6.255, 0.935],\n",
       "       [6.223, 0.802],\n",
       "       [6.189, 0.941],\n",
       "       [6.18 , 0.896],\n",
       "       [6.179, 0.918],\n",
       "       [6.172, 0.882],\n",
       "       [6.166, 0.898],\n",
       "       [6.152, 0.952],\n",
       "       [6.14 , 0.832],\n",
       "       [6.106, 0.843],\n",
       "       [6.078, 0.873],\n",
       "       [6.061, 0.762],\n",
       "       [6.049, 0.905],\n",
       "       [6.032, 0.927],\n",
       "       [6.012, 0.847],\n",
       "       [5.992, 0.943],\n",
       "       [5.985, 0.888],\n",
       "       [5.972, 0.864],\n",
       "       [5.94 , 0.884],\n",
       "       [5.929, 0.898],\n",
       "       [5.929, 0.879],\n",
       "       [5.919, 0.812],\n",
       "       [5.882, 0.924],\n",
       "       [5.88 , 0.83 ],\n",
       "       [5.845, 0.799],\n",
       "       [5.84 , 0.832],\n",
       "       [5.813, 0.87 ],\n",
       "       [5.766, 0.857],\n",
       "       [5.764, 0.821],\n",
       "       [5.744, 0.893],\n",
       "       [5.723, 0.823],\n",
       "       [5.716, 0.81 ],\n",
       "       [5.677, 0.935],\n",
       "       [5.653, 0.893],\n",
       "       [5.581, 0.858],\n",
       "       [5.545, 0.853],\n",
       "       [5.536, 0.82 ],\n",
       "       [5.534, 0.91 ],\n",
       "       [5.477, 0.903],\n",
       "       [5.477, 0.836],\n",
       "       [5.466, 0.86 ],\n",
       "       [5.411, 0.85 ],\n",
       "       [5.41 , 0.827],\n",
       "       [5.384, 0.817],\n",
       "       [5.345, 0.811],\n",
       "       [5.342, 0.636],\n",
       "       [5.339, 0.811],\n",
       "       [5.306, 0.644],\n",
       "       [5.283, 0.799],\n",
       "       [5.269, 0.774],\n",
       "       [5.266, 0.931],\n",
       "       [5.198, 0.913],\n",
       "       [5.171, 0.836],\n",
       "       [5.142, 0.71 ],\n",
       "       [5.132, 0.71 ],\n",
       "       [5.117, 0.697],\n",
       "       [5.101, 0.805],\n",
       "       [5.088, 0.727],\n",
       "       [5.074, 0.641],\n",
       "       [5.066, 0.983],\n",
       "       [5.051, 0.69 ],\n",
       "       [5.045, 0.489],\n",
       "       [5.03 , 0.728],\n",
       "       [5.025, 0.693],\n",
       "       [4.984, 0.639],\n",
       "       [4.956, 0.86 ],\n",
       "       [4.948, 0.822],\n",
       "       [4.934, 0.651],\n",
       "       [4.918, 0.56 ],\n",
       "       [4.892, 0.861],\n",
       "       [4.891, 0.671],\n",
       "       [4.887, 0.802],\n",
       "       [4.875, 0.888],\n",
       "       [4.854, 0.746],\n",
       "       [4.852, 0.776],\n",
       "       [4.834, 0.672],\n",
       "       [4.83 , 0.765],\n",
       "       [4.794, 0.744],\n",
       "       [4.759, 0.74 ],\n",
       "       [4.723, 0.724],\n",
       "       [4.721, 0.71 ],\n",
       "       [4.636, 0.781],\n",
       "       [4.625, 0.72 ],\n",
       "       [4.607, 0.688],\n",
       "       [4.596, 0.691],\n",
       "       [4.584, 0.848],\n",
       "       [4.574, 0.818],\n",
       "       [4.517, 0.826],\n",
       "       [4.426, 0.779],\n",
       "       [4.395, 0.767],\n",
       "       [4.355, 0.619],\n",
       "       [4.325, 0.827],\n",
       "       [4.308, 0.77 ],\n",
       "       [4.289, 0.626],\n",
       "       [4.283, 0.75 ],\n",
       "       [4.275, 0.764],\n",
       "       [4.227, 0.795],\n",
       "       [4.208, 0.686],\n",
       "       [4.107, 0.569],\n",
       "       [4.073, 0.708],\n",
       "       [3.849, 0.63 ],\n",
       "       [3.819, 0.603],\n",
       "       [3.775, 0.49 ],\n",
       "       [3.658, 0.832],\n",
       "       [3.623, 0.702],\n",
       "       [3.615, 0.54 ],\n",
       "       [3.6  , 0.537],\n",
       "       [3.512, 0.787],\n",
       "       [3.467, 0.784],\n",
       "       [3.415, 0.552],\n",
       "       [3.145, 0.75 ],\n",
       "       [2.523, 0.463]])"
      ]
     },
     "execution_count": 202,
     "metadata": {},
     "output_type": "execute_result"
    }
   ],
   "source": [
    "data[['Ladder score', 'Social support']].values"
   ]
  },
  {
   "cell_type": "code",
   "execution_count": 203,
   "id": "4b7c6c82",
   "metadata": {
    "scrolled": true
   },
   "outputs": [
    {
     "data": {
      "text/plain": [
       "Index(['Country name', 'Regional indicator', 'Ladder score',\n",
       "       'Standard error of ladder score', 'upperwhisker', 'lowerwhisker',\n",
       "       'Logged GDP per capita', 'Social support', 'Healthy life expectancy',\n",
       "       'Freedom to make life choices', 'Generosity',\n",
       "       'Perceptions of corruption', 'Ladder score in Dystopia',\n",
       "       'Explained by: Log GDP per capita', 'Explained by: Social support',\n",
       "       'Explained by: Healthy life expectancy',\n",
       "       'Explained by: Freedom to make life choices',\n",
       "       'Explained by: Generosity', 'Explained by: Perceptions of corruption',\n",
       "       'Dystopia + residual'],\n",
       "      dtype='object')"
      ]
     },
     "execution_count": 203,
     "metadata": {},
     "output_type": "execute_result"
    }
   ],
   "source": [
    "data.columns #관심있는 필드만 뽑아 사용하는 방법"
   ]
  },
  {
   "cell_type": "code",
   "execution_count": 204,
   "id": "f6fe11c0",
   "metadata": {},
   "outputs": [
    {
     "name": "stdout",
     "output_type": "stream",
     "text": [
      "<class 'pandas.core.frame.DataFrame'>\n",
      "RangeIndex: 149 entries, 0 to 148\n",
      "Data columns (total 20 columns):\n",
      " #   Column                                      Non-Null Count  Dtype  \n",
      "---  ------                                      --------------  -----  \n",
      " 0   Country name                                149 non-null    object \n",
      " 1   Regional indicator                          149 non-null    object \n",
      " 2   Ladder score                                149 non-null    float64\n",
      " 3   Standard error of ladder score              149 non-null    float64\n",
      " 4   upperwhisker                                149 non-null    float64\n",
      " 5   lowerwhisker                                149 non-null    float64\n",
      " 6   Logged GDP per capita                       149 non-null    float64\n",
      " 7   Social support                              149 non-null    float64\n",
      " 8   Healthy life expectancy                     149 non-null    float64\n",
      " 9   Freedom to make life choices                149 non-null    float64\n",
      " 10  Generosity                                  149 non-null    float64\n",
      " 11  Perceptions of corruption                   149 non-null    float64\n",
      " 12  Ladder score in Dystopia                    149 non-null    float64\n",
      " 13  Explained by: Log GDP per capita            149 non-null    float64\n",
      " 14  Explained by: Social support                149 non-null    float64\n",
      " 15  Explained by: Healthy life expectancy       149 non-null    float64\n",
      " 16  Explained by: Freedom to make life choices  149 non-null    float64\n",
      " 17  Explained by: Generosity                    149 non-null    float64\n",
      " 18  Explained by: Perceptions of corruption     149 non-null    float64\n",
      " 19  Dystopia + residual                         149 non-null    float64\n",
      "dtypes: float64(18), object(2)\n",
      "memory usage: 23.4+ KB\n"
     ]
    }
   ],
   "source": [
    "data.info() #데이터가 어떻게 구성되어 있는지(요약 정보를 보여준다)"
   ]
  },
  {
   "cell_type": "code",
   "execution_count": 205,
   "id": "959b9431",
   "metadata": {},
   "outputs": [
    {
     "data": {
      "text/html": [
       "<div>\n",
       "<style scoped>\n",
       "    .dataframe tbody tr th:only-of-type {\n",
       "        vertical-align: middle;\n",
       "    }\n",
       "\n",
       "    .dataframe tbody tr th {\n",
       "        vertical-align: top;\n",
       "    }\n",
       "\n",
       "    .dataframe thead th {\n",
       "        text-align: right;\n",
       "    }\n",
       "</style>\n",
       "<table border=\"1\" class=\"dataframe\">\n",
       "  <thead>\n",
       "    <tr style=\"text-align: right;\">\n",
       "      <th></th>\n",
       "      <th>Country name</th>\n",
       "      <th>Regional indicator</th>\n",
       "      <th>Ladder score</th>\n",
       "    </tr>\n",
       "  </thead>\n",
       "  <tbody>\n",
       "    <tr>\n",
       "      <th>0</th>\n",
       "      <td>Finland</td>\n",
       "      <td>Western Europe</td>\n",
       "      <td>7.842</td>\n",
       "    </tr>\n",
       "    <tr>\n",
       "      <th>1</th>\n",
       "      <td>Denmark</td>\n",
       "      <td>Western Europe</td>\n",
       "      <td>7.620</td>\n",
       "    </tr>\n",
       "    <tr>\n",
       "      <th>2</th>\n",
       "      <td>Switzerland</td>\n",
       "      <td>Western Europe</td>\n",
       "      <td>7.571</td>\n",
       "    </tr>\n",
       "  </tbody>\n",
       "</table>\n",
       "</div>"
      ],
      "text/plain": [
       "  Country name Regional indicator  Ladder score\n",
       "0      Finland     Western Europe         7.842\n",
       "1      Denmark     Western Europe         7.620\n",
       "2  Switzerland     Western Europe         7.571"
      ]
     },
     "execution_count": 205,
     "metadata": {},
     "output_type": "execute_result"
    }
   ],
   "source": [
    "data.iloc[:3, :3] #행도 뽑고 열도 뽑고 싶을 걍우(넘파이를 사용하고 싶을 경우)"
   ]
  },
  {
   "cell_type": "code",
   "execution_count": 206,
   "id": "4903b688",
   "metadata": {},
   "outputs": [],
   "source": [
    "#NULL처리 (실제 데이터에는 빠진 값들이 대부분이다) => null값 처리는 중요하다\n",
    "#==> info()함수를 이용해서 null값 여부를 확인한다"
   ]
  },
  {
   "cell_type": "code",
   "execution_count": 256,
   "id": "b7903b18",
   "metadata": {},
   "outputs": [
    {
     "data": {
      "text/html": [
       "<div>\n",
       "<style scoped>\n",
       "    .dataframe tbody tr th:only-of-type {\n",
       "        vertical-align: middle;\n",
       "    }\n",
       "\n",
       "    .dataframe tbody tr th {\n",
       "        vertical-align: top;\n",
       "    }\n",
       "\n",
       "    .dataframe thead th {\n",
       "        text-align: right;\n",
       "    }\n",
       "</style>\n",
       "<table border=\"1\" class=\"dataframe\">\n",
       "  <thead>\n",
       "    <tr style=\"text-align: right;\">\n",
       "      <th></th>\n",
       "      <th>이름</th>\n",
       "      <th>나이</th>\n",
       "      <th>지역</th>\n",
       "    </tr>\n",
       "  </thead>\n",
       "  <tbody>\n",
       "    <tr>\n",
       "      <th>0</th>\n",
       "      <td>Jone</td>\n",
       "      <td>22</td>\n",
       "      <td>서울</td>\n",
       "    </tr>\n",
       "    <tr>\n",
       "      <th>1</th>\n",
       "      <td>Paul</td>\n",
       "      <td>31</td>\n",
       "      <td>대전</td>\n",
       "    </tr>\n",
       "    <tr>\n",
       "      <th>2</th>\n",
       "      <td>George</td>\n",
       "      <td>13</td>\n",
       "      <td>대전</td>\n",
       "    </tr>\n",
       "  </tbody>\n",
       "</table>\n",
       "</div>"
      ],
      "text/plain": [
       "       이름  나이  지역\n",
       "0    Jone  22  서울\n",
       "1    Paul  31  대전\n",
       "2  George  13  대전"
      ]
     },
     "execution_count": 256,
     "metadata": {},
     "output_type": "execute_result"
    }
   ],
   "source": [
    "l = [['Jone',22,'서울'], ['Paul',31,'대전'], ['George',13,'대전']]\n",
    "df = pd.DataFrame(l, columns=['이름','나이','지역'])\n",
    "df"
   ]
  },
  {
   "cell_type": "code",
   "execution_count": 257,
   "id": "8b78d717",
   "metadata": {},
   "outputs": [
    {
     "data": {
      "text/plain": [
       "0      one\n",
       "1      aul\n",
       "2    eorge\n",
       "Name: 이름, dtype: object"
      ]
     },
     "execution_count": 257,
     "metadata": {},
     "output_type": "execute_result"
    }
   ],
   "source": [
    "df.이름.str[1:] #1번 부터 끝까지 출력해라(0번째 빼고)"
   ]
  },
  {
   "cell_type": "code",
   "execution_count": null,
   "id": "6fb82bb5",
   "metadata": {},
   "outputs": [],
   "source": []
  },
  {
   "cell_type": "code",
   "execution_count": null,
   "id": "dff93983",
   "metadata": {},
   "outputs": [],
   "source": []
  },
  {
   "cell_type": "code",
   "execution_count": null,
   "id": "113b260c",
   "metadata": {},
   "outputs": [],
   "source": []
  },
  {
   "cell_type": "code",
   "execution_count": 208,
   "id": "6d4fe256",
   "metadata": {},
   "outputs": [],
   "source": [
    "#####################################################################"
   ]
  },
  {
   "cell_type": "code",
   "execution_count": 209,
   "id": "b8de27c8",
   "metadata": {},
   "outputs": [],
   "source": [
    "import numpy as np\n",
    "import matplotlib.pyplot as plt"
   ]
  },
  {
   "cell_type": "code",
   "execution_count": 210,
   "id": "eb45621a",
   "metadata": {},
   "outputs": [],
   "source": [
    "from sklearn.datasets import load_iris\n",
    "iris = load_iris() #꽃의 길이를 재는?"
   ]
  },
  {
   "cell_type": "code",
   "execution_count": 211,
   "id": "aa9ffc44",
   "metadata": {},
   "outputs": [
    {
     "data": {
      "text/plain": [
       "dict_keys(['data', 'target', 'frame', 'target_names', 'DESCR', 'feature_names', 'filename', 'data_module'])"
      ]
     },
     "execution_count": 211,
     "metadata": {},
     "output_type": "execute_result"
    }
   ],
   "source": [
    "iris.keys()"
   ]
  },
  {
   "cell_type": "code",
   "execution_count": 212,
   "id": "4dc16ae9",
   "metadata": {},
   "outputs": [
    {
     "data": {
      "text/plain": [
       "array([[5.1, 3.5, 1.4, 0.2],\n",
       "       [4.9, 3. , 1.4, 0.2],\n",
       "       [4.7, 3.2, 1.3, 0.2],\n",
       "       [4.6, 3.1, 1.5, 0.2],\n",
       "       [5. , 3.6, 1.4, 0.2],\n",
       "       [5.4, 3.9, 1.7, 0.4],\n",
       "       [4.6, 3.4, 1.4, 0.3],\n",
       "       [5. , 3.4, 1.5, 0.2],\n",
       "       [4.4, 2.9, 1.4, 0.2],\n",
       "       [4.9, 3.1, 1.5, 0.1],\n",
       "       [5.4, 3.7, 1.5, 0.2],\n",
       "       [4.8, 3.4, 1.6, 0.2],\n",
       "       [4.8, 3. , 1.4, 0.1],\n",
       "       [4.3, 3. , 1.1, 0.1],\n",
       "       [5.8, 4. , 1.2, 0.2],\n",
       "       [5.7, 4.4, 1.5, 0.4],\n",
       "       [5.4, 3.9, 1.3, 0.4],\n",
       "       [5.1, 3.5, 1.4, 0.3],\n",
       "       [5.7, 3.8, 1.7, 0.3],\n",
       "       [5.1, 3.8, 1.5, 0.3],\n",
       "       [5.4, 3.4, 1.7, 0.2],\n",
       "       [5.1, 3.7, 1.5, 0.4],\n",
       "       [4.6, 3.6, 1. , 0.2],\n",
       "       [5.1, 3.3, 1.7, 0.5],\n",
       "       [4.8, 3.4, 1.9, 0.2],\n",
       "       [5. , 3. , 1.6, 0.2],\n",
       "       [5. , 3.4, 1.6, 0.4],\n",
       "       [5.2, 3.5, 1.5, 0.2],\n",
       "       [5.2, 3.4, 1.4, 0.2],\n",
       "       [4.7, 3.2, 1.6, 0.2],\n",
       "       [4.8, 3.1, 1.6, 0.2],\n",
       "       [5.4, 3.4, 1.5, 0.4],\n",
       "       [5.2, 4.1, 1.5, 0.1],\n",
       "       [5.5, 4.2, 1.4, 0.2],\n",
       "       [4.9, 3.1, 1.5, 0.2],\n",
       "       [5. , 3.2, 1.2, 0.2],\n",
       "       [5.5, 3.5, 1.3, 0.2],\n",
       "       [4.9, 3.6, 1.4, 0.1],\n",
       "       [4.4, 3. , 1.3, 0.2],\n",
       "       [5.1, 3.4, 1.5, 0.2],\n",
       "       [5. , 3.5, 1.3, 0.3],\n",
       "       [4.5, 2.3, 1.3, 0.3],\n",
       "       [4.4, 3.2, 1.3, 0.2],\n",
       "       [5. , 3.5, 1.6, 0.6],\n",
       "       [5.1, 3.8, 1.9, 0.4],\n",
       "       [4.8, 3. , 1.4, 0.3],\n",
       "       [5.1, 3.8, 1.6, 0.2],\n",
       "       [4.6, 3.2, 1.4, 0.2],\n",
       "       [5.3, 3.7, 1.5, 0.2],\n",
       "       [5. , 3.3, 1.4, 0.2],\n",
       "       [7. , 3.2, 4.7, 1.4],\n",
       "       [6.4, 3.2, 4.5, 1.5],\n",
       "       [6.9, 3.1, 4.9, 1.5],\n",
       "       [5.5, 2.3, 4. , 1.3],\n",
       "       [6.5, 2.8, 4.6, 1.5],\n",
       "       [5.7, 2.8, 4.5, 1.3],\n",
       "       [6.3, 3.3, 4.7, 1.6],\n",
       "       [4.9, 2.4, 3.3, 1. ],\n",
       "       [6.6, 2.9, 4.6, 1.3],\n",
       "       [5.2, 2.7, 3.9, 1.4],\n",
       "       [5. , 2. , 3.5, 1. ],\n",
       "       [5.9, 3. , 4.2, 1.5],\n",
       "       [6. , 2.2, 4. , 1. ],\n",
       "       [6.1, 2.9, 4.7, 1.4],\n",
       "       [5.6, 2.9, 3.6, 1.3],\n",
       "       [6.7, 3.1, 4.4, 1.4],\n",
       "       [5.6, 3. , 4.5, 1.5],\n",
       "       [5.8, 2.7, 4.1, 1. ],\n",
       "       [6.2, 2.2, 4.5, 1.5],\n",
       "       [5.6, 2.5, 3.9, 1.1],\n",
       "       [5.9, 3.2, 4.8, 1.8],\n",
       "       [6.1, 2.8, 4. , 1.3],\n",
       "       [6.3, 2.5, 4.9, 1.5],\n",
       "       [6.1, 2.8, 4.7, 1.2],\n",
       "       [6.4, 2.9, 4.3, 1.3],\n",
       "       [6.6, 3. , 4.4, 1.4],\n",
       "       [6.8, 2.8, 4.8, 1.4],\n",
       "       [6.7, 3. , 5. , 1.7],\n",
       "       [6. , 2.9, 4.5, 1.5],\n",
       "       [5.7, 2.6, 3.5, 1. ],\n",
       "       [5.5, 2.4, 3.8, 1.1],\n",
       "       [5.5, 2.4, 3.7, 1. ],\n",
       "       [5.8, 2.7, 3.9, 1.2],\n",
       "       [6. , 2.7, 5.1, 1.6],\n",
       "       [5.4, 3. , 4.5, 1.5],\n",
       "       [6. , 3.4, 4.5, 1.6],\n",
       "       [6.7, 3.1, 4.7, 1.5],\n",
       "       [6.3, 2.3, 4.4, 1.3],\n",
       "       [5.6, 3. , 4.1, 1.3],\n",
       "       [5.5, 2.5, 4. , 1.3],\n",
       "       [5.5, 2.6, 4.4, 1.2],\n",
       "       [6.1, 3. , 4.6, 1.4],\n",
       "       [5.8, 2.6, 4. , 1.2],\n",
       "       [5. , 2.3, 3.3, 1. ],\n",
       "       [5.6, 2.7, 4.2, 1.3],\n",
       "       [5.7, 3. , 4.2, 1.2],\n",
       "       [5.7, 2.9, 4.2, 1.3],\n",
       "       [6.2, 2.9, 4.3, 1.3],\n",
       "       [5.1, 2.5, 3. , 1.1],\n",
       "       [5.7, 2.8, 4.1, 1.3],\n",
       "       [6.3, 3.3, 6. , 2.5],\n",
       "       [5.8, 2.7, 5.1, 1.9],\n",
       "       [7.1, 3. , 5.9, 2.1],\n",
       "       [6.3, 2.9, 5.6, 1.8],\n",
       "       [6.5, 3. , 5.8, 2.2],\n",
       "       [7.6, 3. , 6.6, 2.1],\n",
       "       [4.9, 2.5, 4.5, 1.7],\n",
       "       [7.3, 2.9, 6.3, 1.8],\n",
       "       [6.7, 2.5, 5.8, 1.8],\n",
       "       [7.2, 3.6, 6.1, 2.5],\n",
       "       [6.5, 3.2, 5.1, 2. ],\n",
       "       [6.4, 2.7, 5.3, 1.9],\n",
       "       [6.8, 3. , 5.5, 2.1],\n",
       "       [5.7, 2.5, 5. , 2. ],\n",
       "       [5.8, 2.8, 5.1, 2.4],\n",
       "       [6.4, 3.2, 5.3, 2.3],\n",
       "       [6.5, 3. , 5.5, 1.8],\n",
       "       [7.7, 3.8, 6.7, 2.2],\n",
       "       [7.7, 2.6, 6.9, 2.3],\n",
       "       [6. , 2.2, 5. , 1.5],\n",
       "       [6.9, 3.2, 5.7, 2.3],\n",
       "       [5.6, 2.8, 4.9, 2. ],\n",
       "       [7.7, 2.8, 6.7, 2. ],\n",
       "       [6.3, 2.7, 4.9, 1.8],\n",
       "       [6.7, 3.3, 5.7, 2.1],\n",
       "       [7.2, 3.2, 6. , 1.8],\n",
       "       [6.2, 2.8, 4.8, 1.8],\n",
       "       [6.1, 3. , 4.9, 1.8],\n",
       "       [6.4, 2.8, 5.6, 2.1],\n",
       "       [7.2, 3. , 5.8, 1.6],\n",
       "       [7.4, 2.8, 6.1, 1.9],\n",
       "       [7.9, 3.8, 6.4, 2. ],\n",
       "       [6.4, 2.8, 5.6, 2.2],\n",
       "       [6.3, 2.8, 5.1, 1.5],\n",
       "       [6.1, 2.6, 5.6, 1.4],\n",
       "       [7.7, 3. , 6.1, 2.3],\n",
       "       [6.3, 3.4, 5.6, 2.4],\n",
       "       [6.4, 3.1, 5.5, 1.8],\n",
       "       [6. , 3. , 4.8, 1.8],\n",
       "       [6.9, 3.1, 5.4, 2.1],\n",
       "       [6.7, 3.1, 5.6, 2.4],\n",
       "       [6.9, 3.1, 5.1, 2.3],\n",
       "       [5.8, 2.7, 5.1, 1.9],\n",
       "       [6.8, 3.2, 5.9, 2.3],\n",
       "       [6.7, 3.3, 5.7, 2.5],\n",
       "       [6.7, 3. , 5.2, 2.3],\n",
       "       [6.3, 2.5, 5. , 1.9],\n",
       "       [6.5, 3. , 5.2, 2. ],\n",
       "       [6.2, 3.4, 5.4, 2.3],\n",
       "       [5.9, 3. , 5.1, 1.8]])"
      ]
     },
     "execution_count": 212,
     "metadata": {},
     "output_type": "execute_result"
    }
   ],
   "source": [
    "iris.data"
   ]
  },
  {
   "cell_type": "code",
   "execution_count": 213,
   "id": "1dda4df2",
   "metadata": {},
   "outputs": [
    {
     "data": {
      "text/plain": [
       "(150, 4)"
      ]
     },
     "execution_count": 213,
     "metadata": {},
     "output_type": "execute_result"
    }
   ],
   "source": [
    "iris.data.shape #4는 값이 4개가 있는것 ==> iris.feathure_names에 나오는 4개"
   ]
  },
  {
   "cell_type": "code",
   "execution_count": 214,
   "id": "2a74db9d",
   "metadata": {},
   "outputs": [
    {
     "data": {
      "text/plain": [
       "array(['setosa', 'versicolor', 'virginica'], dtype='<U10')"
      ]
     },
     "execution_count": 214,
     "metadata": {},
     "output_type": "execute_result"
    }
   ],
   "source": [
    "iris.target_names"
   ]
  },
  {
   "cell_type": "code",
   "execution_count": 215,
   "id": "75078bae",
   "metadata": {},
   "outputs": [
    {
     "data": {
      "text/plain": [
       "['sepal length (cm)',\n",
       " 'sepal width (cm)',\n",
       " 'petal length (cm)',\n",
       " 'petal width (cm)']"
      ]
     },
     "execution_count": 215,
     "metadata": {},
     "output_type": "execute_result"
    }
   ],
   "source": [
    "iris.feature_names"
   ]
  },
  {
   "cell_type": "code",
   "execution_count": 216,
   "id": "6dc121a5",
   "metadata": {},
   "outputs": [
    {
     "data": {
      "text/plain": [
       "<matplotlib.collections.PathCollection at 0x2b79529fee0>"
      ]
     },
     "execution_count": 216,
     "metadata": {},
     "output_type": "execute_result"
    },
    {
     "data": {
      "image/png": "[encoded data removed]",
      "text/plain": [
       "<Figure size 432x288 with 1 Axes>"
      ]
     },
     "metadata": {
      "needs_background": "light"
     },
     "output_type": "display_data"
    }
   ],
   "source": [
    "plt.scatter(iris.data[:, 0], iris.data[:, 1], c=iris.target, alpha=0.3)\n",
    "#산점도를 그리는 데이터(속성 4개중 2개를 뽑아 하나를 X 다른하나를 y에 넣는다\n",
    "# 이렇게 점을 찍는 것), 각 점하나가 샘플 즉 꽃이다.\n",
    "#점은 총 150개\n",
    "#위의 c는 color, alpha는 투명도, colotbat는 오른쪽 색깔바를 의미"
   ]
  },
  {
   "cell_type": "code",
   "execution_count": null,
   "id": "b69f2b11",
   "metadata": {},
   "outputs": [],
   "source": []
  },
  {
   "cell_type": "code",
   "execution_count": 217,
   "id": "2a9d71e4",
   "metadata": {},
   "outputs": [],
   "source": [
    "X = iris.data[:, 2] #데이터 입력 / 3번쩨 열의 값을 X로 잡았다(입력해주는 값) - 버야주어야 하는 값\n",
    "y = iris.data[:, 3]#목표값 / 4번빼 열의 값을 y로 잡았다(맞추고 싶은 값) - 맞춰야할 값으로 생각\n",
    "#키라는 데이터로 몸무게 예측??하려는 개념과 비슷"
   ]
  },
  {
   "cell_type": "code",
   "execution_count": 218,
   "id": "fc647f82",
   "metadata": {},
   "outputs": [],
   "source": [
    "## X(입력값)은 항상 2차원 배열이어야 한다\n",
    "X = iris.data[:, [2]] #x=iris.data[:, 2].reshape(-1, 1)로 해도 가능\n",
    "# X : 2차원 향태 or 표형태, x : 1차원 배열때 주로 사용"
   ]
  },
  {
   "cell_type": "code",
   "execution_count": 219,
   "id": "50a80030",
   "metadata": {},
   "outputs": [
    {
     "data": {
      "text/plain": [
       "((150, 1), (150,))"
      ]
     },
     "execution_count": 219,
     "metadata": {},
     "output_type": "execute_result"
    }
   ],
   "source": [
    "X.shape, y.shape"
   ]
  },
  {
   "cell_type": "code",
   "execution_count": null,
   "id": "bd67bcf3",
   "metadata": {},
   "outputs": [],
   "source": []
  },
  {
   "cell_type": "code",
   "execution_count": 220,
   "id": "e83b0112",
   "metadata": {},
   "outputs": [],
   "source": [
    "from sklearn.linear_model import LinearRegression"
   ]
  },
  {
   "cell_type": "code",
   "execution_count": 221,
   "id": "08daff68",
   "metadata": {},
   "outputs": [
    {
     "name": "stdout",
     "output_type": "stream",
     "text": [
      "[0.21898206 0.21898206 0.17740652 0.2605576  0.21898206 0.34370869\n",
      " 0.21898206 0.2605576  0.21898206 0.2605576  0.2605576  0.30213314\n",
      " 0.21898206 0.09425544 0.13583098 0.2605576  0.17740652 0.21898206\n",
      " 0.34370869 0.2605576  0.34370869 0.2605576  0.0526799  0.34370869\n",
      " 0.42685977 0.30213314 0.30213314 0.2605576  0.21898206 0.30213314\n",
      " 0.30213314 0.2605576  0.2605576  0.21898206 0.2605576  0.13583098\n",
      " 0.17740652 0.21898206 0.17740652 0.2605576  0.17740652 0.17740652\n",
      " 0.17740652 0.30213314 0.42685977 0.21898206 0.30213314 0.21898206\n",
      " 0.2605576  0.21898206 1.59097494 1.50782385 1.67412602 1.29994614\n",
      " 1.54939939 1.50782385 1.59097494 1.00891735 1.54939939 1.2583706\n",
      " 1.09206844 1.38309723 1.29994614 1.59097494 1.13364398 1.46624831\n",
      " 1.50782385 1.34152169 1.50782385 1.2583706  1.63255048 1.29994614\n",
      " 1.67412602 1.59097494 1.42467277 1.46624831 1.63255048 1.71570156\n",
      " 1.50782385 1.09206844 1.21679506 1.17521952 1.2583706  1.7572771\n",
      " 1.50782385 1.50782385 1.59097494 1.46624831 1.34152169 1.29994614\n",
      " 1.46624831 1.54939939 1.29994614 1.00891735 1.38309723 1.38309723\n",
      " 1.38309723 1.42467277 0.88419073 1.34152169 2.13145698 1.7572771\n",
      " 2.08988144 1.96515481 2.04830589 2.38091023 1.50782385 2.2561836\n",
      " 2.04830589 2.17303252 1.7572771  1.84042819 1.92357927 1.71570156\n",
      " 1.7572771  1.84042819 1.92357927 2.42248577 2.50563685 1.71570156\n",
      " 2.00673035 1.67412602 2.42248577 1.67412602 2.00673035 2.13145698\n",
      " 1.63255048 1.67412602 1.96515481 2.04830589 2.17303252 2.29775914\n",
      " 1.96515481 1.7572771  1.96515481 2.17303252 1.96515481 1.92357927\n",
      " 1.63255048 1.88200373 1.96515481 1.7572771  1.7572771  2.08988144\n",
      " 2.00673035 1.79885264 1.71570156 1.79885264 1.88200373 1.7572771 ]\n"
     ]
    }
   ],
   "source": [
    "model = LinearRegression()\n",
    "model.fit(X, y) #핏\n",
    "y_pred = model.predict(X) #데이터 예측\n",
    "print(y_pred)"
   ]
  },
  {
   "cell_type": "code",
   "execution_count": 222,
   "id": "5fdfe06e",
   "metadata": {},
   "outputs": [
    {
     "data": {
      "text/plain": [
       "(0.705, 7.195, -0.06996795279057898, 2.628284699336572)"
      ]
     },
     "execution_count": 222,
     "metadata": {},
     "output_type": "execute_result"
    },
    {
     "data": {
      "image/png": "[encoded data removed]",
      "text/plain": [
       "<Figure size 432x288 with 1 Axes>"
      ]
     },
     "metadata": {
      "needs_background": "light"
     },
     "output_type": "display_data"
    }
   ],
   "source": [
    "plt.scatter(X[:, 0], y) #실제 y값을 준다\n",
    "plt.plot(X[:, 0],y_pred, 'r') #예측한 y값을 준다\n",
    "plt.axis('scaled')"
   ]
  },
  {
   "cell_type": "code",
   "execution_count": null,
   "id": "7357f0d1",
   "metadata": {},
   "outputs": [],
   "source": []
  },
  {
   "cell_type": "code",
   "execution_count": null,
   "id": "b745f44e",
   "metadata": {},
   "outputs": [],
   "source": []
  },
  {
   "cell_type": "code",
   "execution_count": null,
   "id": "b4fb7792",
   "metadata": {},
   "outputs": [],
   "source": []
  },
  {
   "cell_type": "code",
   "execution_count": 223,
   "id": "8413e5e2",
   "metadata": {},
   "outputs": [],
   "source": [
    "########################################################################"
   ]
  },
  {
   "cell_type": "code",
   "execution_count": 224,
   "id": "3d073a41",
   "metadata": {},
   "outputs": [],
   "source": [
    "#값을 3개 줄게 줄테니까 맞추어라??"
   ]
  },
  {
   "cell_type": "code",
   "execution_count": 225,
   "id": "00396500",
   "metadata": {},
   "outputs": [],
   "source": [
    "import numpy as np #numpy를 사용하기 위한 임포트\n",
    "import matplotlib.pyplot as plt #표로 나타내기 위한 임포트\n",
    "\n",
    "from sklearn.datasets import load_iris #t상용할 값을 가비고 오는 과정\n",
    "iris = load_iris() #iris 에 불러온 값을 넣어 준다"
   ]
  },
  {
   "cell_type": "code",
   "execution_count": 226,
   "id": "9bc83f40",
   "metadata": {},
   "outputs": [
    {
     "data": {
      "text/plain": [
       "((150, 3), (150,))"
      ]
     },
     "execution_count": 226,
     "metadata": {},
     "output_type": "execute_result"
    }
   ],
   "source": [
    "X = iris.data[:, :3]\n",
    "y = iris.data[:, 3]\n",
    "X.shape, y.shape"
   ]
  },
  {
   "cell_type": "code",
   "execution_count": 227,
   "id": "7b17d20e",
   "metadata": {},
   "outputs": [
    {
     "data": {
      "text/plain": [
       "LinearRegression()"
      ]
     },
     "execution_count": 227,
     "metadata": {},
     "output_type": "execute_result"
    }
   ],
   "source": [
    "from sklearn.linear_model import LinearRegression\n",
    "model = LinearRegression()\n",
    "model.fit(X, y)"
   ]
  },
  {
   "cell_type": "code",
   "execution_count": 228,
   "id": "cc9abd77",
   "metadata": {},
   "outputs": [
    {
     "data": {
      "text/plain": [
       "array([-0.20726607,  0.22282854,  0.52408311])"
      ]
     },
     "metadata": {},
     "output_type": "display_data"
    },
    {
     "data": {
      "text/plain": [
       "-0.24030738911226024"
      ]
     },
     "metadata": {},
     "output_type": "display_data"
    }
   ],
   "source": [
    "w = model.coef_\n",
    "b = model.intercept_\n",
    "display(w, b) #아래 W1 W2 W3값이 나오거 이 값을 통해 값을 도춯 해낸다"
   ]
  },
  {
   "cell_type": "code",
   "execution_count": 229,
   "id": "04b784f4",
   "metadata": {},
   "outputs": [],
   "source": [
    "###################b###################################################"
   ]
  },
  {
   "cell_type": "code",
   "execution_count": 236,
   "id": "b78f2fd3",
   "metadata": {},
   "outputs": [],
   "source": [
    "#다른문제"
   ]
  },
  {
   "cell_type": "code",
   "execution_count": 237,
   "id": "e49eaa42",
   "metadata": {},
   "outputs": [],
   "source": [
    "import numpy as np\n",
    "import pandas as pd\n",
    "import matplotlib.pyplot as plt"
   ]
  },
  {
   "cell_type": "code",
   "execution_count": 238,
   "id": "00e5ed0e",
   "metadata": {},
   "outputs": [
    {
     "data": {
      "text/plain": [
       "[<matplotlib.lines.Line2D at 0x2b795479490>]"
      ]
     },
     "execution_count": 238,
     "metadata": {},
     "output_type": "execute_result"
    },
    {
     "data": {
      "image/png": "[encoded data removed]",
      "text/plain": [
       "<Figure size 432x288 with 1 Axes>"
      ]
     },
     "metadata": {
      "needs_background": "light"
     },
     "output_type": "display_data"
    }
   ],
   "source": [
    "xs = np.arange(-3, 3, 0.1)\n",
    "ys = 1/(1 + np.exp(-xs))\n",
    "\n",
    "plt.plot(xs, ys)"
   ]
  },
  {
   "cell_type": "code",
   "execution_count": 239,
   "id": "dfea2cf8",
   "metadata": {},
   "outputs": [],
   "source": [
    "from sklearn.datasets import load_iris\n",
    "iris = load_iris()"
   ]
  },
  {
   "cell_type": "code",
   "execution_count": 240,
   "id": "de75f2fd",
   "metadata": {},
   "outputs": [
    {
     "data": {
      "text/plain": [
       "<matplotlib.colorbar.Colorbar at 0x2b7954b3af0>"
      ]
     },
     "execution_count": 240,
     "metadata": {},
     "output_type": "execute_result"
    },
    {
     "data": {
      "image/png": "[encoded data removed]",
      "text/plain": [
       "<Figure size 432x288 with 2 Axes>"
      ]
     },
     "metadata": {
      "needs_background": "light"
     },
     "output_type": "display_data"
    }
   ],
   "source": [
    "\n",
    "plt.scatter(iris.data[:,0], iris.data[:,1], c=iris.target)\n",
    "plt.colorbar()"
   ]
  },
  {
   "cell_type": "code",
   "execution_count": 241,
   "id": "c03df5ac",
   "metadata": {},
   "outputs": [
    {
     "data": {
      "text/plain": [
       "((150, 2), (150,))"
      ]
     },
     "execution_count": 241,
     "metadata": {},
     "output_type": "execute_result"
    }
   ],
   "source": [
    "X = iris.data[:, :2]\n",
    "y = np.array([0]*50 + [1]*100) # np.where(iris.target>0, 1, 0)\n",
    "X.shape, y.shape"
   ]
  },
  {
   "cell_type": "code",
   "execution_count": 242,
   "id": "ba351f5e",
   "metadata": {},
   "outputs": [
    {
     "data": {
      "text/plain": [
       "array([0, 0, 0, 0, 0, 0, 0, 0, 0, 0, 0, 0, 0, 0, 0, 0, 0, 0, 0, 0, 0, 0,\n",
       "       0, 0, 0, 0, 0, 0, 0, 0, 0, 0, 0, 0, 0, 0, 0, 0, 0, 0, 0, 0, 0, 0,\n",
       "       0, 0, 0, 0, 0, 0, 1, 1, 1, 1, 1, 1, 1, 1, 1, 1, 1, 1, 1, 1, 1, 1,\n",
       "       1, 1, 1, 1, 1, 1, 1, 1, 1, 1, 1, 1, 1, 1, 1, 1, 1, 1, 1, 1, 1, 1,\n",
       "       1, 1, 1, 1, 1, 1, 1, 1, 1, 1, 1, 1, 1, 1, 1, 1, 1, 1, 1, 1, 1, 1,\n",
       "       1, 1, 1, 1, 1, 1, 1, 1, 1, 1, 1, 1, 1, 1, 1, 1, 1, 1, 1, 1, 1, 1,\n",
       "       1, 1, 1, 1, 1, 1, 1, 1, 1, 1, 1, 1, 1, 1, 1, 1, 1, 1])"
      ]
     },
     "execution_count": 242,
     "metadata": {},
     "output_type": "execute_result"
    }
   ],
   "source": [
    "y"
   ]
  },
  {
   "cell_type": "code",
   "execution_count": 243,
   "id": "c97f51be",
   "metadata": {},
   "outputs": [],
   "source": [
    "from sklearn.linear_model import LogisticRegression"
   ]
  },
  {
   "cell_type": "code",
   "execution_count": 244,
   "id": "bef5b28d",
   "metadata": {},
   "outputs": [
    {
     "data": {
      "text/plain": [
       "array([0, 0, 0, 0, 0, 0, 0, 0, 0, 0, 0, 0, 0, 0, 0, 0, 0, 0, 0, 0, 0, 0,\n",
       "       0, 0, 0, 0, 0, 0, 0, 0, 0, 0, 0, 0, 0, 0, 0, 0, 0, 0, 0, 0, 0, 0,\n",
       "       0, 0, 0, 0, 0, 0, 1, 1, 1, 1, 1, 1, 1, 1, 1, 1, 1, 1, 1, 1, 1, 1,\n",
       "       1, 1, 1, 1, 1, 1, 1, 1, 1, 1, 1, 1, 1, 1, 1, 1, 1, 1, 1, 1, 1, 1,\n",
       "       1, 1, 1, 1, 1, 1, 1, 1, 1, 1, 1, 1, 1, 1, 1, 1, 1, 1, 1, 1, 1, 1,\n",
       "       1, 1, 1, 1, 1, 1, 1, 1, 1, 1, 1, 1, 1, 1, 1, 1, 1, 1, 1, 1, 1, 1,\n",
       "       1, 1, 1, 1, 1, 1, 1, 1, 1, 1, 1, 1, 1, 1, 1, 1, 1, 1])"
      ]
     },
     "execution_count": 244,
     "metadata": {},
     "output_type": "execute_result"
    }
   ],
   "source": [
    "model = LogisticRegression()\n",
    "model.fit(X, y)\n",
    "y_pred = model.predict(X)\n",
    "y_pred"
   ]
  },
  {
   "cell_type": "code",
   "execution_count": 245,
   "id": "abb0f58d",
   "metadata": {},
   "outputs": [
    {
     "data": {
      "text/plain": [
       "1.0"
      ]
     },
     "execution_count": 245,
     "metadata": {},
     "output_type": "execute_result"
    }
   ],
   "source": [
    "model.score(X, y)"
   ]
  },
  {
   "cell_type": "code",
   "execution_count": 246,
   "id": "702ddbdd",
   "metadata": {},
   "outputs": [
    {
     "data": {
      "text/plain": [
       "array([[8.92720238e-01, 1.07279762e-01],\n",
       "       [7.71046348e-01, 2.28953652e-01],\n",
       "       [9.25861792e-01, 7.41382077e-02],\n",
       "       [9.27383226e-01, 7.26167745e-02],\n",
       "       [9.41260955e-01, 5.87390446e-02],\n",
       "       [9.14366510e-01, 8.56334901e-02],\n",
       "       [9.70588854e-01, 2.94111457e-02],\n",
       "       [8.94844544e-01, 1.05155456e-01],\n",
       "       [9.30340069e-01, 6.96599310e-02],\n",
       "       [8.22106028e-01, 1.77893972e-01],\n",
       "       [8.50082658e-01, 1.49917342e-01],\n",
       "       [9.43687032e-01, 5.63129680e-02],\n",
       "       [8.25355057e-01, 1.74644943e-01],\n",
       "       [9.62572636e-01, 3.74273639e-02],\n",
       "       [7.90722967e-01, 2.09277033e-01],\n",
       "       [9.49498438e-01, 5.05015620e-02],\n",
       "       [9.14366510e-01, 8.56334901e-02],\n",
       "       [8.92720238e-01, 1.07279762e-01],\n",
       "       [7.37925296e-01, 2.62074704e-01],\n",
       "       [9.55561442e-01, 4.44385583e-02],\n",
       "       [6.86948409e-01, 3.13051591e-01],\n",
       "       [9.40011474e-01, 5.99885260e-02],\n",
       "       [9.84162879e-01, 1.58371212e-02],\n",
       "       [8.15466254e-01, 1.84533746e-01],\n",
       "       [9.43687032e-01, 5.63129680e-02],\n",
       "       [7.05867903e-01, 2.94132097e-01],\n",
       "       [8.94844544e-01, 1.05155456e-01],\n",
       "       [8.55697295e-01, 1.44302705e-01],\n",
       "       [8.12075145e-01, 1.87924855e-01],\n",
       "       [9.25861792e-01, 7.41382077e-02],\n",
       "       [8.66401735e-01, 1.33598265e-01],\n",
       "       [6.86948409e-01, 3.13051591e-01],\n",
       "       [9.75366839e-01, 2.46331612e-02],\n",
       "       [9.51601779e-01, 4.83982209e-02],\n",
       "       [8.22106028e-01, 1.77893972e-01],\n",
       "       [8.18809824e-01, 1.81190176e-01],\n",
       "       [6.82116219e-01, 3.17883781e-01],\n",
       "       [9.57423588e-01, 4.25764123e-02],\n",
       "       [9.48259025e-01, 5.17409749e-02],\n",
       "       [8.58438460e-01, 1.41561540e-01],\n",
       "       [9.21120027e-01, 7.88799726e-02],\n",
       "       [5.87678957e-01, 4.12321043e-01],\n",
       "       [9.71839851e-01, 2.81601486e-02],\n",
       "       [9.21120027e-01, 7.88799726e-02],\n",
       "       [9.55561442e-01, 4.44385583e-02],\n",
       "       [8.25355057e-01, 1.74644943e-01],\n",
       "       [9.55561442e-01, 4.44385583e-02],\n",
       "       [9.46018652e-01, 5.39813480e-02],\n",
       "       [8.88358175e-01, 1.11641825e-01],\n",
       "       [8.61136004e-01, 1.38863996e-01],\n",
       "       [5.12600003e-03, 9.94874000e-01],\n",
       "       [3.78582845e-02, 9.62141716e-01],\n",
       "       [5.24138947e-03, 9.94758611e-01],\n",
       "       [4.59168341e-02, 9.54083166e-01],\n",
       "       [7.84539075e-03, 9.92154609e-01],\n",
       "       [1.06280067e-01, 8.93719933e-01],\n",
       "       [7.04348064e-02, 9.29565194e-01],\n",
       "       [3.35260426e-01, 6.64739574e-01],\n",
       "       [7.67311629e-03, 9.92326884e-01],\n",
       "       [3.20468700e-01, 6.79531300e-01],\n",
       "       [9.20273399e-02, 9.07972660e-01],\n",
       "       [1.02103420e-01, 8.97896580e-01],\n",
       "       [6.40328292e-03, 9.93596717e-01],\n",
       "       [4.03808448e-02, 9.59619155e-01],\n",
       "       [1.86330517e-01, 8.13669483e-01],\n",
       "       [1.02695039e-02, 9.89730496e-01],\n",
       "       [2.39107398e-01, 7.60892602e-01],\n",
       "       [5.81622102e-02, 9.41837790e-01],\n",
       "       [3.26189380e-03, 9.96738106e-01],\n",
       "       [6.06628345e-02, 9.39337165e-01],\n",
       "       [1.76366253e-01, 8.23633747e-01],\n",
       "       [2.97526242e-02, 9.70247376e-01],\n",
       "       [5.99002561e-03, 9.94009974e-01],\n",
       "       [2.97526242e-02, 9.70247376e-01],\n",
       "       [1.49988359e-02, 9.85001164e-01],\n",
       "       [1.04994549e-02, 9.89500545e-01],\n",
       "       [2.85324211e-03, 9.97146758e-01],\n",
       "       [7.50459613e-03, 9.92495404e-01],\n",
       "       [5.57585470e-02, 9.44241453e-01],\n",
       "       [5.94001956e-02, 9.40599804e-01],\n",
       "       [6.19505449e-02, 9.38049455e-01],\n",
       "       [6.19505449e-02, 9.38049455e-01],\n",
       "       [5.81622102e-02, 9.41837790e-01],\n",
       "       [3.04054318e-02, 9.69594568e-01],\n",
       "       [3.82271042e-01, 6.17728958e-01],\n",
       "       [2.23204739e-01, 7.76795261e-01],\n",
       "       [1.02695039e-02, 9.89730496e-01],\n",
       "       [3.18994330e-03, 9.96810057e-01],\n",
       "       [2.39107398e-01, 7.60892602e-01],\n",
       "       [8.30954449e-02, 9.16904555e-01],\n",
       "       [1.10606518e-01, 8.89393482e-01],\n",
       "       [5.45920536e-02, 9.45407946e-01],\n",
       "       [4.30639643e-02, 9.56936036e-01],\n",
       "       [2.07547843e-01, 7.92452157e-01],\n",
       "       [1.08424339e-01, 8.91575661e-01],\n",
       "       [1.82961696e-01, 8.17038304e-01],\n",
       "       [1.40292591e-01, 8.59707409e-01],\n",
       "       [2.91134116e-02, 9.70886588e-01],\n",
       "       [2.60052738e-01, 7.39947262e-01],\n",
       "       [1.06280067e-01, 8.93719933e-01],\n",
       "       [7.04348064e-02, 9.29565194e-01],\n",
       "       [5.81622102e-02, 9.41837790e-01],\n",
       "       [1.94601095e-03, 9.98053989e-01],\n",
       "       [2.09213773e-02, 9.79078623e-01],\n",
       "       [1.46718041e-02, 9.85328196e-01],\n",
       "       [3.58159275e-04, 9.99641841e-01],\n",
       "       [4.09015931e-01, 5.90984069e-01],\n",
       "       [7.21008730e-04, 9.99278991e-01],\n",
       "       [1.55151516e-03, 9.98448485e-01],\n",
       "       [9.19244022e-03, 9.90807560e-01],\n",
       "       [2.72747135e-02, 9.72725286e-01],\n",
       "       [8.02150180e-03, 9.91978498e-01],\n",
       "       [5.35936241e-03, 9.94640638e-01],\n",
       "       [4.39955947e-02, 9.56004405e-01],\n",
       "       [7.81217644e-02, 9.21878236e-01],\n",
       "       [3.78582845e-02, 9.62141716e-01],\n",
       "       [1.46718041e-02, 9.85328196e-01],\n",
       "       [3.20005486e-03, 9.96799945e-01],\n",
       "       [7.19969082e-05, 9.99928003e-01],\n",
       "       [6.40328292e-03, 9.93596717e-01],\n",
       "       [7.17849812e-03, 9.92821502e-01],\n",
       "       [1.43013278e-01, 8.56986722e-01],\n",
       "       [1.35566886e-04, 9.99864433e-01],\n",
       "       [1.12203100e-02, 9.88779690e-01],\n",
       "       [1.91644385e-02, 9.80835561e-01],\n",
       "       [2.60958787e-03, 9.97390412e-01],\n",
       "       [2.13846877e-02, 9.78615312e-01],\n",
       "       [5.45920536e-02, 9.45407946e-01],\n",
       "       [1.09747465e-02, 9.89025253e-01],\n",
       "       [1.38751071e-03, 9.98612489e-01],\n",
       "       [3.74546279e-04, 9.99625454e-01],\n",
       "       [1.62756451e-03, 9.98372435e-01],\n",
       "       [1.09747465e-02, 9.89025253e-01],\n",
       "       [1.53330438e-02, 9.84666956e-01],\n",
       "       [1.60236001e-02, 9.83976400e-01],\n",
       "       [2.55251918e-04, 9.99744748e-01],\n",
       "       [9.41847897e-02, 9.05815210e-01],\n",
       "       [2.78747149e-02, 9.72125285e-01],\n",
       "       [7.49588843e-02, 9.25041116e-01],\n",
       "       [5.24138947e-03, 9.94758611e-01],\n",
       "       [1.02695039e-02, 9.89730496e-01],\n",
       "       [5.24138947e-03, 9.94758611e-01],\n",
       "       [5.81622102e-02, 9.41837790e-01],\n",
       "       [1.00445380e-02, 9.89955462e-01],\n",
       "       [1.91644385e-02, 9.80835561e-01],\n",
       "       [7.50459613e-03, 9.92495404e-01],\n",
       "       [5.99002561e-03, 9.94009974e-01],\n",
       "       [1.46718041e-02, 9.85328196e-01],\n",
       "       [1.27333164e-01, 8.72666836e-01],\n",
       "       [1.02103420e-01, 8.97896580e-01]])"
      ]
     },
     "execution_count": 246,
     "metadata": {},
     "output_type": "execute_result"
    }
   ],
   "source": [
    "model.predict_proba(X)"
   ]
  },
  {
   "cell_type": "code",
   "execution_count": 247,
   "id": "1090e9b9",
   "metadata": {},
   "outputs": [
    {
     "data": {
      "text/plain": [
       "array([[ 3.38829757, -3.1645277 ]])"
      ]
     },
     "execution_count": 247,
     "metadata": {},
     "output_type": "execute_result"
    }
   ],
   "source": [
    "model.coef_ # [w1, w2]"
   ]
  },
  {
   "cell_type": "code",
   "execution_count": 248,
   "id": "491b01b0",
   "metadata": {},
   "outputs": [
    {
     "data": {
      "text/plain": [
       "array([-8.32330389])"
      ]
     },
     "execution_count": 248,
     "metadata": {},
     "output_type": "execute_result"
    }
   ],
   "source": [
    "model.intercept_ # b"
   ]
  },
  {
   "cell_type": "code",
   "execution_count": null,
   "id": "209ca72c",
   "metadata": {},
   "outputs": [],
   "source": []
  },
  {
   "cell_type": "code",
   "execution_count": 249,
   "id": "453ae242",
   "metadata": {},
   "outputs": [
    {
     "data": {
      "text/plain": [
       "(array([ 3.38829757, -3.1645277 ]), -8.323303886430937)"
      ]
     },
     "execution_count": 249,
     "metadata": {},
     "output_type": "execute_result"
    }
   ],
   "source": [
    "w = model.coef_[0]\n",
    "b = model.intercept_[0]\n",
    "w, b"
   ]
  },
  {
   "cell_type": "code",
   "execution_count": 250,
   "id": "23f7e376",
   "metadata": {},
   "outputs": [
    {
     "data": {
      "text/plain": [
       "[<matplotlib.lines.Line2D at 0x2b796502520>]"
      ]
     },
     "execution_count": 250,
     "metadata": {},
     "output_type": "execute_result"
    },
    {
     "data": {
      "image/png": "[encoded data removed]",
      "text/plain": [
       "<Figure size 432x288 with 1 Axes>"
      ]
     },
     "metadata": {
      "needs_background": "light"
     },
     "output_type": "display_data"
    }
   ],
   "source": [
    "xs = np.array([4,8])\n",
    "ys = -(w[0]*xs + b)/w[1]\n",
    "\n",
    "plt.scatter(X[:,0], X[:,1], c=y)\n",
    "plt.plot(xs, ys, 'r')"
   ]
  },
  {
   "cell_type": "code",
   "execution_count": 251,
   "id": "28301727",
   "metadata": {},
   "outputs": [
    {
     "data": {
      "text/plain": [
       "array([-8.32330389])"
      ]
     },
     "execution_count": 251,
     "metadata": {},
     "output_type": "execute_result"
    }
   ],
   "source": [
    "model.intercept_ # b"
   ]
  },
  {
   "cell_type": "code",
   "execution_count": 252,
   "id": "96f02de0",
   "metadata": {},
   "outputs": [
    {
     "data": {
      "text/plain": [
       "(array([ 3.38829757, -3.1645277 ]), -8.323303886430937)"
      ]
     },
     "execution_count": 252,
     "metadata": {},
     "output_type": "execute_result"
    }
   ],
   "source": [
    "w = model.coef_[0]\n",
    "b = model.intercept_[0]\n",
    "w, b"
   ]
  },
  {
   "cell_type": "code",
   "execution_count": 253,
   "id": "c2099d38",
   "metadata": {},
   "outputs": [
    {
     "data": {
      "text/plain": [
       "1.0"
      ]
     },
     "execution_count": 253,
     "metadata": {},
     "output_type": "execute_result"
    }
   ],
   "source": [
    "model.score(X, y)"
   ]
  },
  {
   "cell_type": "code",
   "execution_count": 255,
   "id": "1ec14e2d",
   "metadata": {},
   "outputs": [
    {
     "data": {
      "text/plain": [
       "array([[8.92720238e-01, 1.07279762e-01],\n",
       "       [7.71046348e-01, 2.28953652e-01],\n",
       "       [9.25861792e-01, 7.41382077e-02],\n",
       "       [9.27383226e-01, 7.26167745e-02],\n",
       "       [9.41260955e-01, 5.87390446e-02],\n",
       "       [9.14366510e-01, 8.56334901e-02],\n",
       "       [9.70588854e-01, 2.94111457e-02],\n",
       "       [8.94844544e-01, 1.05155456e-01],\n",
       "       [9.30340069e-01, 6.96599310e-02],\n",
       "       [8.22106028e-01, 1.77893972e-01],\n",
       "       [8.50082658e-01, 1.49917342e-01],\n",
       "       [9.43687032e-01, 5.63129680e-02],\n",
       "       [8.25355057e-01, 1.74644943e-01],\n",
       "       [9.62572636e-01, 3.74273639e-02],\n",
       "       [7.90722967e-01, 2.09277033e-01],\n",
       "       [9.49498438e-01, 5.05015620e-02],\n",
       "       [9.14366510e-01, 8.56334901e-02],\n",
       "       [8.92720238e-01, 1.07279762e-01],\n",
       "       [7.37925296e-01, 2.62074704e-01],\n",
       "       [9.55561442e-01, 4.44385583e-02],\n",
       "       [6.86948409e-01, 3.13051591e-01],\n",
       "       [9.40011474e-01, 5.99885260e-02],\n",
       "       [9.84162879e-01, 1.58371212e-02],\n",
       "       [8.15466254e-01, 1.84533746e-01],\n",
       "       [9.43687032e-01, 5.63129680e-02],\n",
       "       [7.05867903e-01, 2.94132097e-01],\n",
       "       [8.94844544e-01, 1.05155456e-01],\n",
       "       [8.55697295e-01, 1.44302705e-01],\n",
       "       [8.12075145e-01, 1.87924855e-01],\n",
       "       [9.25861792e-01, 7.41382077e-02],\n",
       "       [8.66401735e-01, 1.33598265e-01],\n",
       "       [6.86948409e-01, 3.13051591e-01],\n",
       "       [9.75366839e-01, 2.46331612e-02],\n",
       "       [9.51601779e-01, 4.83982209e-02],\n",
       "       [8.22106028e-01, 1.77893972e-01],\n",
       "       [8.18809824e-01, 1.81190176e-01],\n",
       "       [6.82116219e-01, 3.17883781e-01],\n",
       "       [9.57423588e-01, 4.25764123e-02],\n",
       "       [9.48259025e-01, 5.17409749e-02],\n",
       "       [8.58438460e-01, 1.41561540e-01],\n",
       "       [9.21120027e-01, 7.88799726e-02],\n",
       "       [5.87678957e-01, 4.12321043e-01],\n",
       "       [9.71839851e-01, 2.81601486e-02],\n",
       "       [9.21120027e-01, 7.88799726e-02],\n",
       "       [9.55561442e-01, 4.44385583e-02],\n",
       "       [8.25355057e-01, 1.74644943e-01],\n",
       "       [9.55561442e-01, 4.44385583e-02],\n",
       "       [9.46018652e-01, 5.39813480e-02],\n",
       "       [8.88358175e-01, 1.11641825e-01],\n",
       "       [8.61136004e-01, 1.38863996e-01],\n",
       "       [5.12600003e-03, 9.94874000e-01],\n",
       "       [3.78582845e-02, 9.62141716e-01],\n",
       "       [5.24138947e-03, 9.94758611e-01],\n",
       "       [4.59168341e-02, 9.54083166e-01],\n",
       "       [7.84539075e-03, 9.92154609e-01],\n",
       "       [1.06280067e-01, 8.93719933e-01],\n",
       "       [7.04348064e-02, 9.29565194e-01],\n",
       "       [3.35260426e-01, 6.64739574e-01],\n",
       "       [7.67311629e-03, 9.92326884e-01],\n",
       "       [3.20468700e-01, 6.79531300e-01],\n",
       "       [9.20273399e-02, 9.07972660e-01],\n",
       "       [1.02103420e-01, 8.97896580e-01],\n",
       "       [6.40328292e-03, 9.93596717e-01],\n",
       "       [4.03808448e-02, 9.59619155e-01],\n",
       "       [1.86330517e-01, 8.13669483e-01],\n",
       "       [1.02695039e-02, 9.89730496e-01],\n",
       "       [2.39107398e-01, 7.60892602e-01],\n",
       "       [5.81622102e-02, 9.41837790e-01],\n",
       "       [3.26189380e-03, 9.96738106e-01],\n",
       "       [6.06628345e-02, 9.39337165e-01],\n",
       "       [1.76366253e-01, 8.23633747e-01],\n",
       "       [2.97526242e-02, 9.70247376e-01],\n",
       "       [5.99002561e-03, 9.94009974e-01],\n",
       "       [2.97526242e-02, 9.70247376e-01],\n",
       "       [1.49988359e-02, 9.85001164e-01],\n",
       "       [1.04994549e-02, 9.89500545e-01],\n",
       "       [2.85324211e-03, 9.97146758e-01],\n",
       "       [7.50459613e-03, 9.92495404e-01],\n",
       "       [5.57585470e-02, 9.44241453e-01],\n",
       "       [5.94001956e-02, 9.40599804e-01],\n",
       "       [6.19505449e-02, 9.38049455e-01],\n",
       "       [6.19505449e-02, 9.38049455e-01],\n",
       "       [5.81622102e-02, 9.41837790e-01],\n",
       "       [3.04054318e-02, 9.69594568e-01],\n",
       "       [3.82271042e-01, 6.17728958e-01],\n",
       "       [2.23204739e-01, 7.76795261e-01],\n",
       "       [1.02695039e-02, 9.89730496e-01],\n",
       "       [3.18994330e-03, 9.96810057e-01],\n",
       "       [2.39107398e-01, 7.60892602e-01],\n",
       "       [8.30954449e-02, 9.16904555e-01],\n",
       "       [1.10606518e-01, 8.89393482e-01],\n",
       "       [5.45920536e-02, 9.45407946e-01],\n",
       "       [4.30639643e-02, 9.56936036e-01],\n",
       "       [2.07547843e-01, 7.92452157e-01],\n",
       "       [1.08424339e-01, 8.91575661e-01],\n",
       "       [1.82961696e-01, 8.17038304e-01],\n",
       "       [1.40292591e-01, 8.59707409e-01],\n",
       "       [2.91134116e-02, 9.70886588e-01],\n",
       "       [2.60052738e-01, 7.39947262e-01],\n",
       "       [1.06280067e-01, 8.93719933e-01],\n",
       "       [7.04348064e-02, 9.29565194e-01],\n",
       "       [5.81622102e-02, 9.41837790e-01],\n",
       "       [1.94601095e-03, 9.98053989e-01],\n",
       "       [2.09213773e-02, 9.79078623e-01],\n",
       "       [1.46718041e-02, 9.85328196e-01],\n",
       "       [3.58159275e-04, 9.99641841e-01],\n",
       "       [4.09015931e-01, 5.90984069e-01],\n",
       "       [7.21008730e-04, 9.99278991e-01],\n",
       "       [1.55151516e-03, 9.98448485e-01],\n",
       "       [9.19244022e-03, 9.90807560e-01],\n",
       "       [2.72747135e-02, 9.72725286e-01],\n",
       "       [8.02150180e-03, 9.91978498e-01],\n",
       "       [5.35936241e-03, 9.94640638e-01],\n",
       "       [4.39955947e-02, 9.56004405e-01],\n",
       "       [7.81217644e-02, 9.21878236e-01],\n",
       "       [3.78582845e-02, 9.62141716e-01],\n",
       "       [1.46718041e-02, 9.85328196e-01],\n",
       "       [3.20005486e-03, 9.96799945e-01],\n",
       "       [7.19969082e-05, 9.99928003e-01],\n",
       "       [6.40328292e-03, 9.93596717e-01],\n",
       "       [7.17849812e-03, 9.92821502e-01],\n",
       "       [1.43013278e-01, 8.56986722e-01],\n",
       "       [1.35566886e-04, 9.99864433e-01],\n",
       "       [1.12203100e-02, 9.88779690e-01],\n",
       "       [1.91644385e-02, 9.80835561e-01],\n",
       "       [2.60958787e-03, 9.97390412e-01],\n",
       "       [2.13846877e-02, 9.78615312e-01],\n",
       "       [5.45920536e-02, 9.45407946e-01],\n",
       "       [1.09747465e-02, 9.89025253e-01],\n",
       "       [1.38751071e-03, 9.98612489e-01],\n",
       "       [3.74546279e-04, 9.99625454e-01],\n",
       "       [1.62756451e-03, 9.98372435e-01],\n",
       "       [1.09747465e-02, 9.89025253e-01],\n",
       "       [1.53330438e-02, 9.84666956e-01],\n",
       "       [1.60236001e-02, 9.83976400e-01],\n",
       "       [2.55251918e-04, 9.99744748e-01],\n",
       "       [9.41847897e-02, 9.05815210e-01],\n",
       "       [2.78747149e-02, 9.72125285e-01],\n",
       "       [7.49588843e-02, 9.25041116e-01],\n",
       "       [5.24138947e-03, 9.94758611e-01],\n",
       "       [1.02695039e-02, 9.89730496e-01],\n",
       "       [5.24138947e-03, 9.94758611e-01],\n",
       "       [5.81622102e-02, 9.41837790e-01],\n",
       "       [1.00445380e-02, 9.89955462e-01],\n",
       "       [1.91644385e-02, 9.80835561e-01],\n",
       "       [7.50459613e-03, 9.92495404e-01],\n",
       "       [5.99002561e-03, 9.94009974e-01],\n",
       "       [1.46718041e-02, 9.85328196e-01],\n",
       "       [1.27333164e-01, 8.72666836e-01],\n",
       "       [1.02103420e-01, 8.97896580e-01]])"
      ]
     },
     "execution_count": 255,
     "metadata": {},
     "output_type": "execute_result"
    }
   ],
   "source": [
    "model.predict_proba(X) #확률값을 출혁하여라, 오른쪽 출력값"
   ]
  },
  {
   "cell_type": "code",
   "execution_count": null,
   "id": "51201a28",
   "metadata": {},
   "outputs": [],
   "source": []
  },
  {
   "cell_type": "code",
   "execution_count": null,
   "id": "153d2264",
   "metadata": {},
   "outputs": [],
   "source": []
  },
  {
   "cell_type": "code",
   "execution_count": null,
   "id": "c5fb42f4",
   "metadata": {},
   "outputs": [],
   "source": []
  },
  {
   "cell_type": "code",
   "execution_count": null,
   "id": "883340f6",
   "metadata": {},
   "outputs": [],
   "source": []
  },
  {
   "cell_type": "code",
   "execution_count": 158,
   "id": "62195995",
   "metadata": {},
   "outputs": [],
   "source": [
    "#####################################################################"
   ]
  },
  {
   "cell_type": "code",
   "execution_count": null,
   "id": "dcef4bce",
   "metadata": {},
   "outputs": [],
   "source": [
    "#학습/ 테스트 데이터 분리"
   ]
  },
  {
   "cell_type": "code",
   "execution_count": 159,
   "id": "3d052db6",
   "metadata": {},
   "outputs": [],
   "source": [
    "import numpy as np\n",
    "import pandas as pd\n",
    "import matplotlib.pyplot as lt"
   ]
  },
  {
   "cell_type": "code",
   "execution_count": 161,
   "id": "577feff9",
   "metadata": {},
   "outputs": [],
   "source": [
    "from sklearn.datasets import load_iris\n",
    "iris = load_iris()"
   ]
  },
  {
   "cell_type": "code",
   "execution_count": 162,
   "id": "20feff4f",
   "metadata": {},
   "outputs": [],
   "source": [
    "from sklearn.model_selection import train_test_split"
   ]
  },
  {
   "cell_type": "code",
   "execution_count": 168,
   "id": "9c175aa5",
   "metadata": {},
   "outputs": [
    {
     "data": {
      "text/plain": [
       "((112, 2), (38, 2), (112,))"
      ]
     },
     "execution_count": 168,
     "metadata": {},
     "output_type": "execute_result"
    }
   ],
   "source": [
    "#훈련데이터외 테스트 데이터 분리?\n",
    "X_train, X_test, y_train, y_test = train_test_split(iris.data[:,:2], iris.target)\n",
    "X_train.shape, X_test.shape, y_train.shape"
   ]
  },
  {
   "cell_type": "code",
   "execution_count": 172,
   "id": "b4c713cf",
   "metadata": {},
   "outputs": [
    {
     "data": {
      "text/plain": [
       "array([0, 0, 0, 1, 0, 2, 1, 1, 0, 0, 0, 2, 1, 2, 1, 2, 0, 1, 0, 0, 0, 1,\n",
       "       1, 0, 2, 1, 0, 0, 2, 1, 2, 2, 2, 0, 0, 2, 2, 1])"
      ]
     },
     "execution_count": 172,
     "metadata": {},
     "output_type": "execute_result"
    }
   ],
   "source": [
    "model = LogisticRegression()\n",
    "model.fit(X_train, y_train)\n",
    "y_pred =model.predict(X_test)\n",
    "y_pred\n",
    "#할때마다 다른 결괴 도출(선택되는 학습 데이터와 테스트 데이터가 다르기 때문 -> 여러번 돌려서 평균값을 사용 )"
   ]
  },
  {
   "cell_type": "code",
   "execution_count": 173,
   "id": "a57a3817",
   "metadata": {},
   "outputs": [
    {
     "data": {
      "text/plain": [
       "0.8421052631578947"
      ]
     },
     "execution_count": 173,
     "metadata": {},
     "output_type": "execute_result"
    }
   ],
   "source": [
    "model.score(X_test, y_test)"
   ]
  },
  {
   "cell_type": "code",
   "execution_count": 174,
   "id": "882a0e55",
   "metadata": {},
   "outputs": [
    {
     "data": {
      "text/plain": [
       "0.8035714285714286"
      ]
     },
     "execution_count": 174,
     "metadata": {},
     "output_type": "execute_result"
    }
   ],
   "source": [
    "model.score(X_train, y_train)"
   ]
  },
  {
   "cell_type": "code",
   "execution_count": 175,
   "id": "d19cb90a",
   "metadata": {},
   "outputs": [
    {
     "data": {
      "text/plain": [
       "array([0, 0, 0, 1, 0, 2, 1, 1, 0, 0, 0, 2, 2, 1, 1, 2, 0, 1, 0, 0, 0, 2,\n",
       "       1, 0, 2, 1, 0, 0, 2, 1, 2, 1, 1, 0, 0, 2, 2, 0])"
      ]
     },
     "execution_count": 175,
     "metadata": {},
     "output_type": "execute_result"
    }
   ],
   "source": [
    "y_test"
   ]
  },
  {
   "cell_type": "code",
   "execution_count": null,
   "id": "e2c0920a",
   "metadata": {},
   "outputs": [],
   "source": []
  }
 ],
 "metadata": {
  "kernelspec": {
   "display_name": "Python 3 (ipykernel)",
   "language": "python",
   "name": "python3"
  },
  "language_info": {
   "codemirror_mode": {
    "name": "ipython",
    "version": 3
   },
   "file_extension": ".py",
   "mimetype": "text/x-python",
   "name": "python",
   "nbconvert_exporter": "python",
   "pygments_lexer": "ipython3",
   "version": "3.9.12"
  }
 },
 "nbformat": 4,
 "nbformat_minor": 5
}
